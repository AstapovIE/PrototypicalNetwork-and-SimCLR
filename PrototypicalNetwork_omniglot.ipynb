{
  "cells": [
    {
      "cell_type": "markdown",
      "metadata": {
        "id": "view-in-github"
      },
      "source": [
        "<a href=\"https://github.com/ml-dafe/ml_mipt_dafe/tree/main/hw2/prototypical_omniglot_unsolved.ipynb\" target=\"_parent\"><img src=\"https://colab.research.google.com/assets/colab-badge.svg\" alt=\"Open In Colab\"/></a>"
      ]
    },
    {
      "cell_type": "markdown",
      "metadata": {
        "id": "GlyMLKngmf-t"
      },
      "source": [
        "# Prototypical Netwoks on the Omniglot dataset"
      ]
    },
    {
      "cell_type": "markdown",
      "metadata": {
        "id": "_lkKQe0r0xOd"
      },
      "source": [
        "Заданием является воспроизведение результатов статьи [Prototypical Networks for Few-shot Learning](https://arxiv.org/pdf/1703.05175v2.pdf)"
      ]
    },
    {
      "cell_type": "markdown",
      "metadata": {
        "id": "uh1W3Lszseoa"
      },
      "source": [
        "## Import libraries"
      ]
    },
    {
      "cell_type": "code",
      "execution_count": 1,
      "metadata": {
        "id": "F8XY5yCCZCYZ"
      },
      "outputs": [],
      "source": [
        "import os\n",
        "from pathlib import Path\n",
        "\n",
        "import cv2\n",
        "import numpy as np\n",
        "import matplotlib.pyplot as plt\n",
        "from tqdm.notebook import tnrange\n",
        "\n",
        "import torch\n",
        "import torch.nn as nn\n",
        "import torchvision\n",
        "import torch.nn.functional as F\n",
        "import torch.optim as optim\n",
        "from torch.autograd import Variable"
      ]
    },
    {
      "cell_type": "code",
      "execution_count": 2,
      "metadata": {
        "colab": {
          "base_uri": "https://localhost:8080/"
        },
        "id": "X5zGtLpGIziY",
        "outputId": "0e2004e4-9a6c-491e-fc3b-d2c74036376c"
      },
      "outputs": [
        {
          "output_type": "stream",
          "name": "stdout",
          "text": [
            "True\n"
          ]
        }
      ],
      "source": [
        "# Check GPU support, please do activate GPU\n",
        "print(torch.cuda.is_available())\n",
        "device = torch.device(\"cuda\" if torch.cuda.is_available() else \"cpu\")"
      ]
    },
    {
      "cell_type": "markdown",
      "metadata": {
        "id": "Ebffp6XBskUN"
      },
      "source": [
        "## Import data"
      ]
    },
    {
      "cell_type": "markdown",
      "metadata": {
        "id": "5-R_Clr7tEQh"
      },
      "source": [
        "Omniglot dataset - [the official GitHub repository](https://github.com/brendenlake/omniglot)"
      ]
    },
    {
      "cell_type": "code",
      "execution_count": 3,
      "metadata": {
        "colab": {
          "base_uri": "https://localhost:8080/"
        },
        "id": "7aV-Lqty3qTu",
        "outputId": "1dcf41f0-04e9-4ef6-d9c6-454697134ca0"
      },
      "outputs": [
        {
          "output_type": "stream",
          "name": "stdout",
          "text": [
            "--2025-05-27 17:14:10--  https://github.com/brendenlake/omniglot/raw/master/python/images_evaluation.zip\n",
            "Resolving github.com (github.com)... 140.82.114.3\n",
            "Connecting to github.com (github.com)|140.82.114.3|:443... connected.\n",
            "HTTP request sent, awaiting response... 302 Found\n",
            "Location: https://raw.githubusercontent.com/brendenlake/omniglot/master/python/images_evaluation.zip [following]\n",
            "--2025-05-27 17:14:11--  https://raw.githubusercontent.com/brendenlake/omniglot/master/python/images_evaluation.zip\n",
            "Resolving raw.githubusercontent.com (raw.githubusercontent.com)... 185.199.111.133, 185.199.108.133, 185.199.110.133, ...\n",
            "Connecting to raw.githubusercontent.com (raw.githubusercontent.com)|185.199.111.133|:443... connected.\n",
            "HTTP request sent, awaiting response... 200 OK\n",
            "Length: 6462886 (6.2M) [application/zip]\n",
            "Saving to: ‘images_evaluation.zip’\n",
            "\n",
            "images_evaluation.z 100%[===================>]   6.16M  --.-KB/s    in 0.06s   \n",
            "\n",
            "2025-05-27 17:14:11 (102 MB/s) - ‘images_evaluation.zip’ saved [6462886/6462886]\n",
            "\n",
            "--2025-05-27 17:14:11--  https://github.com/brendenlake/omniglot/raw/master/python/images_background.zip\n",
            "Resolving github.com (github.com)... 140.82.114.3\n",
            "Connecting to github.com (github.com)|140.82.114.3|:443... connected.\n",
            "HTTP request sent, awaiting response... 302 Found\n",
            "Location: https://raw.githubusercontent.com/brendenlake/omniglot/master/python/images_background.zip [following]\n",
            "--2025-05-27 17:14:12--  https://raw.githubusercontent.com/brendenlake/omniglot/master/python/images_background.zip\n",
            "Resolving raw.githubusercontent.com (raw.githubusercontent.com)... 185.199.108.133, 185.199.109.133, 185.199.110.133, ...\n",
            "Connecting to raw.githubusercontent.com (raw.githubusercontent.com)|185.199.108.133|:443... connected.\n",
            "HTTP request sent, awaiting response... 200 OK\n",
            "Length: 9464212 (9.0M) [application/zip]\n",
            "Saving to: ‘images_background.zip’\n",
            "\n",
            "images_background.z 100%[===================>]   9.03M  --.-KB/s    in 0.07s   \n",
            "\n",
            "2025-05-27 17:14:13 (137 MB/s) - ‘images_background.zip’ saved [9464212/9464212]\n",
            "\n"
          ]
        }
      ],
      "source": [
        "!wget https://github.com/brendenlake/omniglot/raw/master/python/images_evaluation.zip\n",
        "\n",
        "!wget https://github.com/brendenlake/omniglot/raw/master/python/images_background.zip"
      ]
    },
    {
      "cell_type": "code",
      "execution_count": 4,
      "metadata": {
        "id": "GnYYF9wL6ZuA"
      },
      "outputs": [],
      "source": [
        "!unzip -qq images_background.zip\n",
        "!unzip -qq images_evaluation.zip"
      ]
    },
    {
      "cell_type": "markdown",
      "metadata": {
        "id": "l33V3V0asntp"
      },
      "source": [
        "## Read data"
      ]
    },
    {
      "cell_type": "markdown",
      "metadata": {
        "id": "bMLu94FStR5n"
      },
      "source": [
        "Набор данных Omniglot содержит 1623 различных рукописных символа из 50 различных алфавитов. Каждый из 1623 персонажей был нарисован онлайн с помощью Amazon Mechanical Turk 20 разными людьми (то есть 20 примеров на персонажа).\n",
        "Он разделен на фоновый набор из 30 алфавитов и оценочный набор из 20 алфавитов. Мы будем использовать фоновый набор для обучения и оценочный набор для тестирования."
      ]
    },
    {
      "cell_type": "markdown",
      "metadata": {
        "id": "amQEFsD60xOk"
      },
      "source": [
        "### Задание № 1 - реализуйте функцию чтения данных\n",
        "\n",
        "Вы можете увеличить размер обучающей выборки, если для каждого символа введете 4 класса, соответствующих повороту на 90 градусов. То есть из одного класса сделать x4."
      ]
    },
    {
      "cell_type": "code",
      "execution_count": 5,
      "metadata": {
        "id": "rKlO0nwi0xOk"
      },
      "outputs": [],
      "source": [
        "def read_alphabets(alphabet_directory_path):\n",
        "    \"\"\"\n",
        "    Reads all the characters from a given alphabet_directory\n",
        "    Args:\n",
        "      alphabet_directory_path (str): path to diretory with files\n",
        "    Returns:\n",
        "      datax (np.array): array of path name of images\n",
        "      datay (np.array): array of labels\n",
        "    \"\"\"\n",
        "    datax = []  # all file names of images\n",
        "    datay = []  # all class names\n",
        "\n",
        "\n",
        "    alphabet_name = os.path.basename(os.path.normpath(alphabet_directory_path))\n",
        "\n",
        "\n",
        "    for character_name in os.listdir(alphabet_directory_path):\n",
        "        character_path = os.path.join(alphabet_directory_path, character_name)\n",
        "\n",
        "        if not os.path.isdir(character_path):\n",
        "            continue\n",
        "\n",
        "        label = f\"{alphabet_name}/{character_name}\"\n",
        "\n",
        "        for image_name in os.listdir(character_path):\n",
        "            if image_name.endswith(\".png\"):\n",
        "                image_path = os.path.join(character_path, image_name)\n",
        "                datax.append(image_path)\n",
        "                datay.append(label)\n",
        "\n",
        "    return np.array(datax), np.array(datay)"
      ]
    },
    {
      "cell_type": "code",
      "execution_count": 6,
      "metadata": {
        "id": "MpBqML_o0xOk"
      },
      "outputs": [],
      "source": [
        "def read_images(base_directory):\n",
        "    \"\"\"\n",
        "    Reads all the alphabets from the base_directory\n",
        "    Uses multithreading to decrease the reading time drastically\n",
        "    \"\"\"\n",
        "    datax = None\n",
        "    datay = None\n",
        "\n",
        "    results = [read_alphabets(base_directory + '/' + directory + '/') for directory in os.listdir(base_directory)]\n",
        "\n",
        "    for result in results:\n",
        "        if datax is None:\n",
        "            datax = result[0]\n",
        "            datay = result[1]\n",
        "        else:\n",
        "            datax = np.concatenate([datax, result[0]])\n",
        "            datay = np.concatenate([datay, result[1]])\n",
        "    return datax, datay"
      ]
    },
    {
      "cell_type": "code",
      "execution_count": 7,
      "metadata": {
        "id": "P7UN-n0l7aT0"
      },
      "outputs": [],
      "source": [
        "trainx, trainy = read_images('images_background')"
      ]
    },
    {
      "cell_type": "code",
      "execution_count": 8,
      "metadata": {
        "id": "G8urUFzNAaYA"
      },
      "outputs": [],
      "source": [
        "testx, testy = read_images('images_evaluation')"
      ]
    },
    {
      "cell_type": "code",
      "execution_count": 9,
      "metadata": {
        "colab": {
          "base_uri": "https://localhost:8080/"
        },
        "id": "Li3bT2bPAdih",
        "outputId": "94dffb0f-95c7-470a-b13f-bea61e848490"
      },
      "outputs": [
        {
          "output_type": "execute_result",
          "data": {
            "text/plain": [
              "((19280,), (19280,), (13180,), (13180,))"
            ]
          },
          "metadata": {},
          "execution_count": 9
        }
      ],
      "source": [
        "trainx.shape, trainy.shape, testx.shape, testy.shape"
      ]
    },
    {
      "cell_type": "code",
      "source": [
        "for a in trainx:\n",
        "    print(a)\n",
        "    break"
      ],
      "metadata": {
        "colab": {
          "base_uri": "https://localhost:8080/"
        },
        "id": "B9dX-0F_5dHD",
        "outputId": "6fd00198-9a77-4c1a-e11e-87da2079386c"
      },
      "execution_count": 10,
      "outputs": [
        {
          "output_type": "stream",
          "name": "stdout",
          "text": [
            "images_background/Hebrew/character22/0487_19.png\n"
          ]
        }
      ]
    },
    {
      "cell_type": "markdown",
      "metadata": {
        "id": "J2VcplJ3xA-z"
      },
      "source": [
        "## Create samples"
      ]
    },
    {
      "cell_type": "code",
      "execution_count": 11,
      "metadata": {
        "id": "oDOhxCjd24bw"
      },
      "outputs": [],
      "source": [
        "def extract_sample(n_way, n_support, n_query, datax, datay):\n",
        "    \"\"\"\n",
        "    Picks random sample of size n_support + n_querry, for n_way classes\n",
        "    Args:\n",
        "      n_way (int): number of classes in a classification task\n",
        "      n_support (int): number of labeled examples per class in the support set\n",
        "      n_query (int): number of labeled examples per class in the query set\n",
        "      datax (np.array): dataset of images\n",
        "      datay (np.array): dataset of labels\n",
        "    Returns:\n",
        "      (dict) of:\n",
        "        (torch.Tensor): sample of images. Size (n_way, n_support + n_query, (dim))\n",
        "        (int): n_way\n",
        "        (int): n_support\n",
        "        (int): n_query\n",
        "    \"\"\"\n",
        "    sample = []\n",
        "    K = np.random.choice(np.unique(datay), n_way, replace=False)\n",
        "    for cls in K:\n",
        "        datax_cls = datax[datay == cls]\n",
        "        perm = np.random.permutation(datax_cls)\n",
        "        sample_cls = perm[:(n_support + n_query)]\n",
        "        sample.append([cv2.resize(cv2.imread(fname), (28, 28))\n",
        "                                  for fname in sample_cls])\n",
        "\n",
        "    sample = np.array(sample)\n",
        "    sample = torch.from_numpy(sample).float()\n",
        "    sample = sample.permute(0, 1, 4, 2, 3)\n",
        "    return ({\n",
        "        'images': sample,\n",
        "        'n_way': n_way,\n",
        "        'n_support': n_support,\n",
        "        'n_query': n_query\n",
        "    })"
      ]
    },
    {
      "cell_type": "code",
      "execution_count": 12,
      "metadata": {
        "id": "ia3JLpQRu4fh"
      },
      "outputs": [],
      "source": [
        "def display_sample(sample):\n",
        "    \"\"\"\n",
        "    Displays sample in a grid\n",
        "    Args:\n",
        "      sample (torch.Tensor): sample of images to display\n",
        "    \"\"\"\n",
        "    #need 4D tensor to create grid, currently 5D\n",
        "    sample_4D = sample.view(sample.shape[0] * sample.shape[1], *sample.shape[2:])\n",
        "    #make a grid\n",
        "    out = torchvision.utils.make_grid(sample_4D, nrow=sample.shape[1])\n",
        "\n",
        "    plt.figure(figsize=(16, 7))\n",
        "    plt.imshow(out.permute(1, 2, 0))"
      ]
    },
    {
      "cell_type": "markdown",
      "metadata": {
        "id": "-uGq_ya4yG2K"
      },
      "source": [
        "В качестве примера возьмем образец и отобразим его\n",
        "\n",
        "*   n_way = 8\n",
        "*   n_support = 5\n",
        "*   n_query = 5"
      ]
    },
    {
      "cell_type": "code",
      "execution_count": 13,
      "metadata": {
        "colab": {
          "base_uri": "https://localhost:8080/",
          "height": 641
        },
        "id": "lxOHvWfO1ApZ",
        "outputId": "f0b27f4a-2617-4a4d-f3c0-db8bfc778243"
      },
      "outputs": [
        {
          "output_type": "stream",
          "name": "stderr",
          "text": [
            "WARNING:matplotlib.image:Clipping input data to the valid range for imshow with RGB data ([0..1] for floats or [0..255] for integers). Got range [0.0..255.0].\n"
          ]
        },
        {
          "output_type": "display_data",
          "data": {
            "text/plain": [
              "<Figure size 1600x700 with 1 Axes>"
            ],
            "image/png": "[encoded data removed]"
          },
          "metadata": {}
        }
      ],
      "source": [
        "sample_example = extract_sample(8, 5, 5, trainx, trainy)\n",
        "display_sample(sample_example['images'])"
      ]
    },
    {
      "cell_type": "code",
      "execution_count": 14,
      "metadata": {
        "colab": {
          "base_uri": "https://localhost:8080/"
        },
        "id": "RhDNMyG8AjOB",
        "outputId": "4671bdf0-def5-43b1-c078-5ba4e23e74d7"
      },
      "outputs": [
        {
          "output_type": "execute_result",
          "data": {
            "text/plain": [
              "torch.Size([8, 10, 3, 28, 28])"
            ]
          },
          "metadata": {},
          "execution_count": 14
        }
      ],
      "source": [
        "sample_example['images'].shape"
      ]
    },
    {
      "cell_type": "markdown",
      "metadata": {
        "id": "HbakTT_nFubI"
      },
      "source": [
        "## Build model"
      ]
    },
    {
      "cell_type": "markdown",
      "metadata": {
        "id": "VuvH9joezgja"
      },
      "source": [
        "Модель берет на вход (28x28x3) и возвращает вектор-столбец длиной 64. Каждый модуль модели состоит из свертки 3 × 3 с 64 фильтрами, слоя пакетной нормализации, нелинейности ReLU и слоя максимального объединения 2 × 2 (см. описание задания).\n",
        "\n",
        "Применительно к изображениям Omniglot 28 × 28 эта архитектура приводит к 64-мерному выходному пространству."
      ]
    },
    {
      "cell_type": "markdown",
      "metadata": {
        "id": "VpdBDR8X0xOp"
      },
      "source": [
        "### Задание № 2 - реализуйте энкодер на основе сверточной нейроннй сети"
      ]
    },
    {
      "cell_type": "code",
      "execution_count": 15,
      "metadata": {
        "id": "081HNS_W0xOp"
      },
      "outputs": [],
      "source": [
        "import torch\n",
        "import torch.nn as nn\n",
        "import torch.nn.functional as F\n",
        "\n",
        "class ConvBlock(nn.Module):\n",
        "    def __init__(self, in_channels, out_channels=64):\n",
        "        super(ConvBlock, self).__init__()\n",
        "        self.block = nn.Sequential(\n",
        "            nn.Conv2d(in_channels, out_channels, kernel_size=3, padding=1),\n",
        "            nn.BatchNorm2d(out_channels),\n",
        "            nn.ReLU(),\n",
        "            nn.MaxPool2d(2)\n",
        "        )\n",
        "\n",
        "    def forward(self, x):\n",
        "        return self.block(x)\n",
        "\n",
        "class Encoder(nn.Module):\n",
        "    def __init__(self, x_dim=(3, 28, 28), hid_dim=64, z_dim=64):\n",
        "        super(Encoder, self).__init__()\n",
        "        self.encoder = nn.Sequential(\n",
        "            ConvBlock(x_dim[0], hid_dim),\n",
        "            ConvBlock(hid_dim, hid_dim),\n",
        "            ConvBlock(hid_dim, hid_dim),\n",
        "            ConvBlock(hid_dim, z_dim)\n",
        "        )\n",
        "\n",
        "    def forward(self, x):\n",
        "        x = self.encoder(x)\n",
        "        return x.view(x.size(0), -1)\n"
      ]
    },
    {
      "cell_type": "markdown",
      "metadata": {
        "id": "Ehp0UDtg0xOp"
      },
      "source": [
        "### Задание № 3 - реализуйте Prototypical Networks (``` set_forward_loss ```)"
      ]
    },
    {
      "cell_type": "code",
      "execution_count": 16,
      "metadata": {
        "id": "FTjSYAz1WY5e"
      },
      "outputs": [],
      "source": [
        "class ProtoNet(nn.Module):\n",
        "    def __init__(self, encoder):\n",
        "        \"\"\"\n",
        "        Args:\n",
        "            encoder : CNN encoding the images in sample\n",
        "            n_way (int): number of classes in a classification task\n",
        "            n_support (int): number of labeled examples per class in the support set\n",
        "            n_query (int): number of labeled examples per class in the query set\n",
        "        \"\"\"\n",
        "        super(ProtoNet, self).__init__()\n",
        "        self.encoder = encoder.cuda()\n",
        "\n",
        "    def set_forward_loss(self, sample):\n",
        "        \"\"\"\n",
        "        Computes loss, accuracy and output for classification task\n",
        "        Args:\n",
        "            sample (torch.Tensor): shape (n_way, n_support+n_query, (dim))\n",
        "        Returns:\n",
        "            torch.Tensor: shape(2), loss, accuracy and y_hat (predict)\n",
        "        \"\"\"\n",
        "        sample_images = sample['images'].to(device)\n",
        "        n_way = sample['n_way']\n",
        "        n_support = sample['n_support']\n",
        "        n_query = sample['n_query']\n",
        "\n",
        "        n_total = n_support + n_query\n",
        "        x = sample_images.view(n_way * n_total, *sample_images.shape[2:])\n",
        "        embeddings = self.encoder(x)  # shape: (n_way * n_total, 64)\n",
        "\n",
        "        # разложим обратно\n",
        "        embeddings = embeddings.view(n_way, n_total, -1)  # (n_way, n_total, 64)\n",
        "        support = embeddings[:, :n_support, :]             # (n_way, n_support, 64)\n",
        "        query = embeddings[:, n_support:, :]               # (n_way, n_query, 64)\n",
        "\n",
        "        # Вычисляем прототипы: среднее по support\n",
        "        prototypes = support.mean(dim=1)                   # (n_way, 64)\n",
        "\n",
        "        # Сравниваем каждый query со всеми прототипами\n",
        "        query = query.contiguous().view(n_way * n_query, -1)       # (n_way * n_query, 64)\n",
        "        dists = torch.cdist(query, prototypes)                     # (n_way * n_query, n_way)\n",
        "\n",
        "        # Предсказание: класс с минимальной дистанцией\n",
        "        y_hat = (-dists).softmax(dim=1)                            # вероятности\n",
        "        preds = dists.argmin(dim=1)                                # предсказанные метки\n",
        "\n",
        "        # правильные классы\n",
        "        gt = torch.arange(n_way).unsqueeze(1).expand(n_way, n_query).reshape(-1).cuda()  # (n_way * n_query)\n",
        "\n",
        "        loss_val = F.cross_entropy(-dists, gt)\n",
        "        acc_val = (preds == gt).float().mean()\n",
        "\n",
        "        return loss_val, {\n",
        "            'loss': loss_val.item(),\n",
        "            'acc': acc_val.item(),\n",
        "            'y_hat': y_hat\n",
        "            }"
      ]
    },
    {
      "cell_type": "code",
      "execution_count": 17,
      "metadata": {
        "id": "DBzAfRyJB-3X"
      },
      "outputs": [],
      "source": [
        "def load_protonet_conv(x_dim=(3, 28, 28), hid_dim=64, z_dim=64):\n",
        "    \"\"\"\n",
        "    Loads the prototypical network model\n",
        "    Arg:\n",
        "      x_dim (tuple): dimension of input image\n",
        "      hid_dim (int): dimension of hidden layers in conv blocks\n",
        "      z_dim (int): dimension of embedded image\n",
        "    Returns:\n",
        "      Model (Class ProtoNet)\n",
        "    \"\"\"\n",
        "    encoder = Encoder(x_dim=x_dim, hid_dim=hid_dim, z_dim=z_dim)\n",
        "\n",
        "    return ProtoNet(encoder)"
      ]
    },
    {
      "cell_type": "markdown",
      "metadata": {
        "id": "0Fke38yY6pI9",
        "tags": []
      },
      "source": [
        "## Train"
      ]
    },
    {
      "cell_type": "markdown",
      "metadata": {
        "id": "mREDjKN-0xOr"
      },
      "source": [
        "### Задание № 4 - добавьте логирование в процесс обучения (wandb/neptune/tensorboard)"
      ]
    },
    {
      "cell_type": "code",
      "source": [
        "# !pip install wandb"
      ],
      "metadata": {
        "id": "3WzNYsA4iF6p"
      },
      "execution_count": 18,
      "outputs": []
    },
    {
      "cell_type": "code",
      "source": [
        "import wandb\n",
        "# wandb.login()"
      ],
      "metadata": {
        "id": "7DahV2QdiHH6"
      },
      "execution_count": 19,
      "outputs": []
    },
    {
      "cell_type": "code",
      "source": [
        "def train(model, optimizer, train_x, train_y, n_way, n_support, n_query, max_epoch, epoch_size):\n",
        "    wandb.init(\n",
        "        project=\"PrototypicalNetwork\",\n",
        "        name=\"train_model\",\n",
        "        config={\n",
        "            \"n_way\": n_way,\n",
        "            \"n_support\": n_support,\n",
        "            \"n_query\": n_query,\n",
        "            \"max_epoch\": max_epoch,\n",
        "            \"epoch_size\": epoch_size,\n",
        "            \"optimizer\": optimizer.__class__.__name__,\n",
        "            \"lr\": optimizer.param_groups[0]['lr']\n",
        "        }\n",
        "    )\n",
        "\n",
        "    scheduler = optim.lr_scheduler.StepLR(optimizer, 1, gamma=0.5, last_epoch=-1)\n",
        "    epoch = 0\n",
        "    stop = False\n",
        "\n",
        "    history_loss = []\n",
        "    history_acc = []\n",
        "\n",
        "    while epoch < max_epoch and not stop:\n",
        "        running_loss = 0.0\n",
        "        running_acc = 0.0\n",
        "\n",
        "        for episode in tnrange(epoch_size, desc=\"Epoch {:d} train\".format(epoch + 1)):\n",
        "            sample = extract_sample(n_way, n_support, n_query, train_x, train_y)\n",
        "            optimizer.zero_grad()\n",
        "            loss, output = model.set_forward_loss(sample)\n",
        "            running_loss += output['loss']\n",
        "            running_acc += output['acc']\n",
        "            loss.backward()\n",
        "            optimizer.step()\n",
        "\n",
        "        epoch_loss = running_loss / epoch_size\n",
        "        epoch_acc = running_acc / epoch_size\n",
        "\n",
        "        print('Epoch {:d} -- Loss: {:.4f} Acc: {:.4f}'.format(epoch+1, epoch_loss, epoch_acc))\n",
        "\n",
        "        wandb.log({\"loss\": epoch_loss, \"accuracy\": epoch_acc, \"lr\": optimizer.param_groups[0]['lr']})\n",
        "\n",
        "        history_loss.append(epoch_loss)\n",
        "        history_acc.append(epoch_acc)\n",
        "\n",
        "        epoch += 1\n",
        "        scheduler.step()\n",
        "    wandb.finish()"
      ],
      "metadata": {
        "id": "PmwIGJ2XiHKk"
      },
      "execution_count": 26,
      "outputs": []
    },
    {
      "cell_type": "code",
      "execution_count": 27,
      "metadata": {
        "id": "7uMy99qE-Ed6"
      },
      "outputs": [],
      "source": [
        "model = load_protonet_conv(\n",
        "    x_dim=(3, 28, 28),\n",
        "    hid_dim=64,\n",
        "    z_dim=64,\n",
        ")\n",
        "model = model.to(device)\n",
        "\n",
        "optimizer = optim.Adam(model.parameters(), lr=0.001)\n",
        "\n",
        "n_way = 60\n",
        "n_support = 5\n",
        "n_query = 5\n",
        "\n",
        "train_x = trainx\n",
        "train_y = trainy\n",
        "\n",
        "max_epoch = 5\n",
        "epoch_size = 666"
      ]
    },
    {
      "cell_type": "code",
      "execution_count": 28,
      "metadata": {
        "colab": {
          "base_uri": "https://localhost:8080/",
          "height": 769,
          "referenced_widgets": [
            "371364f3777e4502bba1d276c7e26e54",
            "16e91458c2c6427ab5ffc3465463f8be",
            "e0a399392617411ab92d2389ed005337",
            "1569a9bdb23046adb280400798af3e97",
            "f653b035f69b4512952487db0b3f7c5d",
            "06286765363f47f488c3072255ffc1db",
            "95de54a1647341baa5014eaa42e60fa2",
            "bcf0d099493d44158e6f2e7178ff279e",
            "e009cb3b95a4431090d4bdcb1f2a31ba",
            "1369ced5139c46dfa067a2b8a731c781",
            "21df43e1d82c4974b9d9fc362f33ed58",
            "7baf30bad0514adb8f818b3073904559",
            "5d591ccf6a454bcca8bcaa0341302c67",
            "12873d84603149f7b23d2f7d4af3e97c",
            "c3f78e80c17e4f55a29ad0f4ce4201ed",
            "f4a3fc61589344aa829361e4210b6d01",
            "58dbe6b459134cf7aca36b68b10d6e02",
            "706a68d6ef12447a98cb239198a9f94f",
            "1c6e80e9027f4920abebc4b774f16166",
            "e803c8d4ca9d4b069b629e07d3f21fdf",
            "8d59b06091e2413baecbe6c8d2ac4ef6",
            "de5408a348e74b04b4bb61965f52f057",
            "0bf141ee344b40f489277b6ff80ca22c",
            "c8cf228fce51445bb3e1949d996d89f3",
            "0634278fcb174a3ba5dec330cb9d74fc",
            "d9b9a1d39ad740d2b33cec567fbf3620",
            "9e31074ef151464b9e3e2f9732e6854e",
            "3ae866ad125e4463bd9a8cfad94ced40",
            "6ad81c05d3d04335adaa3d4314a8cc47",
            "af649f1f5e344d5ba9babeb326818cae",
            "d27b5c75ffad4382985c0b419916f2b3",
            "9844df72e6a64f1bac9b47547e382ca3",
            "74c49e5540bc4787b00a2a1e18bb30f3",
            "9c3476036d1a4477848e8e6acb9fbd06",
            "654d8c0df62a496cbbdefd34c3df9fb5",
            "495a4e8428864d6b8461ac0f22e40748",
            "b3642d7038d54c5abaac45c5ca404278",
            "e1767f4c33834ef68bf67345d362fa52",
            "aa5e020fc6d8414cbc050778b570d4dc",
            "710d8034731c41669392667525dc139d",
            "c5c8c740a7924cdf9009a53455f9bf09",
            "341b01864aad41f8921f4a4eeb0fc23e",
            "0037301dc492429d841a35a23c1aa51b",
            "cccc19581d71469bbdeaded23249b465",
            "d8fd10820b6c47d5890edb15c0d69555",
            "c924c97ee0644eeaaebd36f3744e8154",
            "78b1956bb17749fc8c9387ac1516a773",
            "266aa82e00824884972cacdf7a653185",
            "df8a6375ea644fd9bb70336aa0005267",
            "37f8a9cf1953419a9477737da0e44f1c",
            "eebd42b6d86641d08391b2e4df4f6664",
            "d178afc942094effa327c8335bf3763d",
            "f4dd3b7b68c0480fabd32e605d7d1927",
            "c02a6da32ee741d08eb3127446244980",
            "52c9fa10326e4723a9f8863f76272d91"
          ]
        },
        "id": "dODQh75q0xOs",
        "outputId": "42b79e9c-34ff-4ef8-dda1-197ba032d33b"
      },
      "outputs": [
        {
          "output_type": "display_data",
          "data": {
            "text/plain": [
              "<IPython.core.display.HTML object>"
            ],
            "text/html": [
              "Tracking run with wandb version 0.19.11"
            ]
          },
          "metadata": {}
        },
        {
          "output_type": "display_data",
          "data": {
            "text/plain": [
              "<IPython.core.display.HTML object>"
            ],
            "text/html": [
              "Run data is saved locally in <code>/content/wandb/run-20250527_171705-3gp8cdje</code>"
            ]
          },
          "metadata": {}
        },
        {
          "output_type": "display_data",
          "data": {
            "text/plain": [
              "<IPython.core.display.HTML object>"
            ],
            "text/html": [
              "Syncing run <strong><a href='https://wandb.ai/iastapov114-mipt/PrototypicalNetwork/runs/3gp8cdje' target=\"_blank\">train_model</a></strong> to <a href='https://wandb.ai/iastapov114-mipt/PrototypicalNetwork' target=\"_blank\">Weights & Biases</a> (<a href='https://wandb.me/developer-guide' target=\"_blank\">docs</a>)<br>"
            ]
          },
          "metadata": {}
        },
        {
          "output_type": "display_data",
          "data": {
            "text/plain": [
              "<IPython.core.display.HTML object>"
            ],
            "text/html": [
              " View project at <a href='https://wandb.ai/iastapov114-mipt/PrototypicalNetwork' target=\"_blank\">https://wandb.ai/iastapov114-mipt/PrototypicalNetwork</a>"
            ]
          },
          "metadata": {}
        },
        {
          "output_type": "display_data",
          "data": {
            "text/plain": [
              "<IPython.core.display.HTML object>"
            ],
            "text/html": [
              " View run at <a href='https://wandb.ai/iastapov114-mipt/PrototypicalNetwork/runs/3gp8cdje' target=\"_blank\">https://wandb.ai/iastapov114-mipt/PrototypicalNetwork/runs/3gp8cdje</a>"
            ]
          },
          "metadata": {}
        },
        {
          "output_type": "display_data",
          "data": {
            "text/plain": [
              "Epoch 1 train:   0%|          | 0/666 [00:00<?, ?it/s]"
            ],
            "application/vnd.jupyter.widget-view+json": {
              "version_major": 2,
              "version_minor": 0,
              "model_id": "371364f3777e4502bba1d276c7e26e54"
            }
          },
          "metadata": {}
        },
        {
          "output_type": "stream",
          "name": "stdout",
          "text": [
            "Epoch 1 -- Loss: 0.2171 Acc: 0.9528\n"
          ]
        },
        {
          "output_type": "display_data",
          "data": {
            "text/plain": [
              "Epoch 2 train:   0%|          | 0/666 [00:00<?, ?it/s]"
            ],
            "application/vnd.jupyter.widget-view+json": {
              "version_major": 2,
              "version_minor": 0,
              "model_id": "7baf30bad0514adb8f818b3073904559"
            }
          },
          "metadata": {}
        },
        {
          "output_type": "stream",
          "name": "stdout",
          "text": [
            "Epoch 2 -- Loss: 0.0537 Acc: 0.9866\n"
          ]
        },
        {
          "output_type": "display_data",
          "data": {
            "text/plain": [
              "Epoch 3 train:   0%|          | 0/666 [00:00<?, ?it/s]"
            ],
            "application/vnd.jupyter.widget-view+json": {
              "version_major": 2,
              "version_minor": 0,
              "model_id": "0bf141ee344b40f489277b6ff80ca22c"
            }
          },
          "metadata": {}
        },
        {
          "output_type": "stream",
          "name": "stdout",
          "text": [
            "Epoch 3 -- Loss: 0.0367 Acc: 0.9906\n"
          ]
        },
        {
          "output_type": "display_data",
          "data": {
            "text/plain": [
              "Epoch 4 train:   0%|          | 0/666 [00:00<?, ?it/s]"
            ],
            "application/vnd.jupyter.widget-view+json": {
              "version_major": 2,
              "version_minor": 0,
              "model_id": "9c3476036d1a4477848e8e6acb9fbd06"
            }
          },
          "metadata": {}
        },
        {
          "output_type": "stream",
          "name": "stdout",
          "text": [
            "Epoch 4 -- Loss: 0.0288 Acc: 0.9928\n"
          ]
        },
        {
          "output_type": "display_data",
          "data": {
            "text/plain": [
              "Epoch 5 train:   0%|          | 0/666 [00:00<?, ?it/s]"
            ],
            "application/vnd.jupyter.widget-view+json": {
              "version_major": 2,
              "version_minor": 0,
              "model_id": "d8fd10820b6c47d5890edb15c0d69555"
            }
          },
          "metadata": {}
        },
        {
          "output_type": "stream",
          "name": "stdout",
          "text": [
            "Epoch 5 -- Loss: 0.0257 Acc: 0.9935\n"
          ]
        },
        {
          "output_type": "display_data",
          "data": {
            "text/plain": [
              "<IPython.core.display.HTML object>"
            ],
            "text/html": []
          },
          "metadata": {}
        },
        {
          "output_type": "display_data",
          "data": {
            "text/plain": [
              "<IPython.core.display.HTML object>"
            ],
            "text/html": [
              "<br>    <style><br>        .wandb-row {<br>            display: flex;<br>            flex-direction: row;<br>            flex-wrap: wrap;<br>            justify-content: flex-start;<br>            width: 100%;<br>        }<br>        .wandb-col {<br>            display: flex;<br>            flex-direction: column;<br>            flex-basis: 100%;<br>            flex: 1;<br>            padding: 10px;<br>        }<br>    </style><br><div class=\"wandb-row\"><div class=\"wandb-col\"><h3>Run history:</h3><br/><table class=\"wandb\"><tr><td>accuracy</td><td>▁▇███</td></tr><tr><td>loss</td><td>█▂▁▁▁</td></tr><tr><td>lr</td><td>█▄▂▁▁</td></tr></table><br/></div><div class=\"wandb-col\"><h3>Run summary:</h3><br/><table class=\"wandb\"><tr><td>accuracy</td><td>0.9935</td></tr><tr><td>loss</td><td>0.02573</td></tr><tr><td>lr</td><td>6e-05</td></tr></table><br/></div></div>"
            ]
          },
          "metadata": {}
        },
        {
          "output_type": "display_data",
          "data": {
            "text/plain": [
              "<IPython.core.display.HTML object>"
            ],
            "text/html": [
              " View run <strong style=\"color:#cdcd00\">train_model</strong> at: <a href='https://wandb.ai/iastapov114-mipt/PrototypicalNetwork/runs/3gp8cdje' target=\"_blank\">https://wandb.ai/iastapov114-mipt/PrototypicalNetwork/runs/3gp8cdje</a><br> View project at: <a href='https://wandb.ai/iastapov114-mipt/PrototypicalNetwork' target=\"_blank\">https://wandb.ai/iastapov114-mipt/PrototypicalNetwork</a><br>Synced 5 W&B file(s), 0 media file(s), 0 artifact file(s) and 0 other file(s)"
            ]
          },
          "metadata": {}
        },
        {
          "output_type": "display_data",
          "data": {
            "text/plain": [
              "<IPython.core.display.HTML object>"
            ],
            "text/html": [
              "Find logs at: <code>./wandb/run-20250527_171705-3gp8cdje/logs</code>"
            ]
          },
          "metadata": {}
        },
        {
          "output_type": "stream",
          "name": "stdout",
          "text": [
            "CPU times: user 4min 22s, sys: 28.7 s, total: 4min 50s\n",
            "Wall time: 4min 55s\n"
          ]
        }
      ],
      "source": [
        "%%time\n",
        "\n",
        "train(model, optimizer, train_x, train_y, n_way, n_support, n_query, max_epoch, epoch_size)"
      ]
    },
    {
      "cell_type": "markdown",
      "metadata": {
        "id": "pJu50gOb8WxU"
      },
      "source": [
        "## Test"
      ]
    },
    {
      "cell_type": "code",
      "execution_count": 29,
      "metadata": {
        "id": "qCgoOcCaERHH"
      },
      "outputs": [],
      "source": [
        "def test(model, test_x, test_y, n_way, n_support, n_query, test_episode):\n",
        "    \"\"\"\n",
        "    Tests the protonet\n",
        "    Args:\n",
        "      model: trained model\n",
        "      test_x (np.array): images of testing set\n",
        "      test_y (np.array): labels of testing set\n",
        "      n_way (int): number of classes in a classification task\n",
        "      n_support (int): number of labeled examples per class in the support set\n",
        "      n_query (int): number of labeled examples per class in the query set\n",
        "      test_episode (int): number of episodes to test on\n",
        "    \"\"\"\n",
        "    running_loss = 0.0\n",
        "    running_acc = 0.0\n",
        "    for episode in tnrange(test_episode):\n",
        "        sample = extract_sample(n_way, n_support, n_query, test_x, test_y)\n",
        "        loss, output = model.set_forward_loss(sample)\n",
        "        running_loss += output['loss']\n",
        "        running_acc += output['acc']\n",
        "\n",
        "    avg_loss = running_loss / test_episode\n",
        "    avg_acc = running_acc / test_episode\n",
        "    print('Test results -- Loss: {:.4f} Acc: {:.4f}'.format(avg_loss, avg_acc))"
      ]
    },
    {
      "cell_type": "code",
      "execution_count": 30,
      "metadata": {
        "id": "yvyja6x3I6JB"
      },
      "outputs": [],
      "source": [
        "n_way = 5\n",
        "n_support = 5\n",
        "n_query = 5\n",
        "\n",
        "test_x = testx\n",
        "test_y = testy\n",
        "\n",
        "test_episode = 1000"
      ]
    },
    {
      "cell_type": "code",
      "execution_count": 31,
      "metadata": {
        "colab": {
          "base_uri": "https://localhost:8080/",
          "height": 66,
          "referenced_widgets": [
            "b7a61a14010d496fb100a7aa32b0a511",
            "d444dcea10f148fcb3505baa9836b272",
            "e2529220e4e14720a56a28a56d97cf49",
            "39e8ea14b83145b4bf6fc996648deccb",
            "87bafd2138ac4266995369971426aed0",
            "996b27e96050454db813d5c73c2ca2c0",
            "771ed78dbb6f450baa1c2a3136cfc5d3",
            "f8b14c297a1948b2809979af6d51eb7c",
            "2361cb7454ef425fb47e96277658cfb7",
            "9eba7d6fb0f64475a02d9b09fc7e9bb1",
            "35192b8d593447288e39bb4d2237d815"
          ]
        },
        "id": "_cE-c7c80xO1",
        "outputId": "a6468e0c-b796-4f84-a56d-210822ccba09"
      },
      "outputs": [
        {
          "output_type": "display_data",
          "data": {
            "text/plain": [
              "  0%|          | 0/1000 [00:00<?, ?it/s]"
            ],
            "application/vnd.jupyter.widget-view+json": {
              "version_major": 2,
              "version_minor": 0,
              "model_id": "b7a61a14010d496fb100a7aa32b0a511"
            }
          },
          "metadata": {}
        },
        {
          "output_type": "stream",
          "name": "stdout",
          "text": [
            "Test results -- Loss: 0.0226 Acc: 0.9933\n"
          ]
        }
      ],
      "source": [
        "test(model, test_x, test_y, n_way, n_support, n_query, test_episode)"
      ]
    },
    {
      "cell_type": "markdown",
      "metadata": {
        "id": "nOH0sg_7EKUW"
      },
      "source": [
        "## Test on specific example"
      ]
    },
    {
      "cell_type": "code",
      "execution_count": null,
      "metadata": {
        "colab": {
          "base_uri": "https://localhost:8080/",
          "height": 629
        },
        "id": "eO8PcZ_F0ZWc",
        "outputId": "65b4d46b-2cc4-4aaf-e154-6f0f87d54ad3"
      },
      "outputs": [
        {
          "output_type": "stream",
          "name": "stderr",
          "text": [
            "WARNING:matplotlib.image:Clipping input data to the valid range for imshow with RGB data ([0..1] for floats or [0..255] for integers). Got range [0.0..255.0].\n"
          ]
        },
        {
          "output_type": "display_data",
          "data": {
            "text/plain": [
              "<Figure size 1600x700 with 1 Axes>"
            ],
            "image/png": "[encoded data removed]"
          },
          "metadata": {}
        }
      ],
      "source": [
        "my_sample = extract_sample(n_way, n_support, n_query, test_x, test_y)\n",
        "display_sample(my_sample['images'])"
      ]
    },
    {
      "cell_type": "markdown",
      "metadata": {
        "id": "PwArBnk00xO2"
      },
      "source": [
        "### Задание № 5 - добавьте функцию для визуализации предсказания с тестирования\n",
        "\n"
      ]
    },
    {
      "cell_type": "code",
      "execution_count": null,
      "metadata": {
        "id": "JIR1_i62gOUB"
      },
      "outputs": [],
      "source": [
        "def display_prediction(sample, y_hat):\n",
        "    \"\"\"\n",
        "    Отображает support и query изображения с классами и предсказаниями\n",
        "    sample: dict с 'images', 'n_way', 'n_support', 'n_query'\n",
        "    y_hat: torch.Tensor с предсказаниями (shape: n_way * n_query, n_way)\n",
        "    \"\"\"\n",
        "    images = sample['images']  # (n_way, n_support + n_query, C, H, W)\n",
        "    n_way = sample['n_way']\n",
        "    n_support = sample['n_support']\n",
        "    n_query = sample['n_query']\n",
        "\n",
        "    images_np = images.cpu().numpy()\n",
        "    images_np = images_np.transpose(0, 1, 3, 4, 2)  # (n_way, n_sup+query, H, W, C)\n",
        "    images_np = images_np / images_np.max()  # нормализация для отображения\n",
        "\n",
        "    fig, axes = plt.subplots(n_way, n_support + n_query, figsize=(2*(n_support + n_query), 2*n_way))\n",
        "\n",
        "    for i in range(n_way):\n",
        "        # Support картинки\n",
        "        for j in range(n_support):\n",
        "            ax = axes[i, j]\n",
        "            ax.imshow(images_np[i, j])\n",
        "            ax.axis('off')\n",
        "            ax.set_title(f'Sup cls={i}', fontsize=8, color='black')\n",
        "\n",
        "        # Query картинки + предсказанные классы\n",
        "        for j in range(n_query):\n",
        "            ax = axes[i, j + n_support]\n",
        "            ax.imshow(images_np[i, j + n_support])\n",
        "            ax.axis('off')\n",
        "            pred_cls = y_hat[i * n_query + j].argmax().item()\n",
        "            if i == pred_cls:\n",
        "                c = 'green'\n",
        "            else:\n",
        "                c = 'red'\n",
        "            ax.set_title(f'Q cls={i} / pred={pred_cls}', fontsize=8, color=c)\n",
        "\n",
        "    plt.tight_layout()\n",
        "    plt.show()\n"
      ]
    },
    {
      "cell_type": "code",
      "source": [
        "sample = extract_sample(n_way, n_support, n_query, test_x, test_y)\n",
        "loss, output = model.set_forward_loss(sample)\n",
        "display_prediction(sample, output['y_hat'])\n"
      ],
      "metadata": {
        "colab": {
          "base_uri": "https://localhost:8080/",
          "height": 575
        },
        "id": "5TmGL-R7BPkj",
        "outputId": "3aaa66ad-4943-40e8-eab8-e72067a6741e"
      },
      "execution_count": null,
      "outputs": [
        {
          "output_type": "display_data",
          "data": {
            "text/plain": [
              "<Figure size 2000x1000 with 50 Axes>"
            ],
            "image/png": "[encoded data removed]"
          },
          "metadata": {}
        }
      ]
    },
    {
      "cell_type": "markdown",
      "metadata": {
        "id": "fvsv8SFR0xO3"
      },
      "source": [
        "# Задание 6: Downstream task\n",
        "\n",
        "## Задание 6.1\n",
        "Ваша задача обучить заданную вами модель CNN методом SimCLR для набора данных CIFAR10, а затем использовать обученный энкодер для решения задачи классификации.\n",
        "\n",
        "**Примечание:**\n",
        "- В качестве базового энкодера можете использовать модель из семинара выше (```resnet18```) или определить свою сеть. **Рекомендуется** использовать уже предобученные сети из [torch zoo](https://pytorch.org/vision/stable/models.html).\n",
        "- В качестве обучающего множества для задачи классификации воспользуйетсь ```X_test```, ```y_test```, которые были определены в самом начале ноутбука. Создайте обучающую и валидационную выборку.\n",
        "- В новой CNN для задачи классификации требуется обучить только полносвязные слои после энкодера. Для этого вам потребуется \"заморозить\" веса энкодера и не учить их. Сделать это можно с помощью команды:\n",
        "```python\n",
        "for p in encoder.parameters():\n",
        "    p.requires_grad = False  \n",
        "```\n",
        "- Процесс обучения модели можно взять из предыдущего семинара\n",
        "\n",
        "## Задание 6.2\n",
        "\n",
        "Сравните полученный результат обучения c и без использования метода SimCLR."
      ]
    },
    {
      "cell_type": "code",
      "source": [
        "# === Этап I: Подготовка данных ===\n",
        "\n",
        "import torch\n",
        "import torch.nn as nn\n",
        "import torch.nn.functional as F\n",
        "import torchvision\n",
        "from torchvision import datasets, transforms\n",
        "from torch.utils.data import DataLoader, Dataset, random_split\n",
        "import numpy as np\n",
        "import matplotlib.pyplot as plt\n",
        "\n",
        "# Сильные аугментации для SimCLR\n",
        "simclr_transform = transforms.Compose([\n",
        "    transforms.RandomResizedCrop(32),\n",
        "    transforms.RandomHorizontalFlip(),\n",
        "    transforms.RandomApply([transforms.ColorJitter(0.4, 0.4, 0.4, 0.1)], p=0.8),\n",
        "    transforms.RandomGrayscale(p=0.2),\n",
        "    transforms.ToTensor()\n",
        "])\n",
        "\n",
        "# Стандартные аугментации для классификации\n",
        "classifier_transform = transforms.Compose([\n",
        "    transforms.ToTensor(),\n",
        "    transforms.Normalize((0.5,), (0.5,))\n",
        "])\n",
        "\n",
        "# Кастомный датасет для SimCLR\n",
        "class ContrastiveDataset(Dataset):\n",
        "    def __init__(self, base_dataset, transform):\n",
        "        self.base_dataset = base_dataset\n",
        "        self.transform = transform\n",
        "\n",
        "    def __getitem__(self, idx):\n",
        "        img, _ = self.base_dataset[idx]\n",
        "        x_i = self.transform(img)\n",
        "        x_j = self.transform(img)\n",
        "        return x_i, x_j\n",
        "\n",
        "    def __len__(self):\n",
        "        return len(self.base_dataset)\n",
        "\n",
        "# CIFAR-10 без transform\n",
        "cifar_train_raw = datasets.CIFAR10(root='./data', train=True, download=True, transform=None)\n",
        "simclr_dataset = ContrastiveDataset(cifar_train_raw, simclr_transform)\n",
        "simclr_loader = DataLoader(simclr_dataset, batch_size=256, shuffle=True, drop_last=True)"
      ],
      "metadata": {
        "id": "LWsVAWraTa64"
      },
      "execution_count": null,
      "outputs": []
    },
    {
      "cell_type": "code",
      "source": [
        "# === Этап II: Обучение SimCLR ===\n",
        "\n",
        "from torchvision.models import resnet18\n",
        "\n",
        "class SimCLRModel(nn.Module):\n",
        "    def __init__(self, base_encoder, projection_dim=128):\n",
        "        super().__init__()\n",
        "        self.encoder = base_encoder\n",
        "        dim_mlp = self.encoder.fc.in_features\n",
        "        self.encoder.fc = nn.Identity()\n",
        "        self.projector = nn.Sequential(\n",
        "            nn.Linear(dim_mlp, dim_mlp),\n",
        "            nn.ReLU(),\n",
        "            nn.Linear(dim_mlp, projection_dim)\n",
        "        )\n",
        "\n",
        "    def forward(self, x):\n",
        "        features = self.encoder(x)\n",
        "        projections = self.projector(features)\n",
        "        return F.normalize(projections, dim=1)\n",
        "\n",
        "# NT-Xent loss\n",
        "def nt_xent_loss(z_i, z_j, temperature=0.5):\n",
        "    N = z_i.size(0)\n",
        "    z = torch.cat([z_i, z_j], dim=0)\n",
        "    sim = F.cosine_similarity(z.unsqueeze(1), z.unsqueeze(0), dim=2) / temperature\n",
        "\n",
        "    labels = torch.arange(N).cuda()\n",
        "    labels = torch.cat([labels, labels], dim=0)\n",
        "    mask = torch.eye(2 * N, dtype=torch.bool).cuda()\n",
        "    sim = sim.masked_fill(mask, -9e15)\n",
        "\n",
        "    positives = torch.cat([torch.diag(sim, N), torch.diag(sim, -N)], dim=0)\n",
        "    nominator = torch.exp(positives)\n",
        "    denominator = torch.sum(torch.exp(sim), dim=1)\n",
        "    loss = -torch.log(nominator / denominator)\n",
        "    return loss.mean()\n",
        "\n",
        "# Обучение SimCLR\n",
        "simclr_model = SimCLRModel(resnet18(weights='DEFAULT')).cuda()\n",
        "optimizer = torch.optim.Adam(simclr_model.parameters(), lr=1e-3)\n",
        "\n",
        "def train_simclr(model, loader, optimizer, epochs=10):\n",
        "    model.train()\n",
        "    for epoch in range(epochs):\n",
        "        total_loss = 0\n",
        "        for x_i, x_j in loader:\n",
        "            x_i, x_j = x_i.cuda(), x_j.cuda()\n",
        "            z_i = model(x_i)\n",
        "            z_j = model(x_j)\n",
        "            loss = nt_xent_loss(z_i, z_j)\n",
        "            optimizer.zero_grad()\n",
        "            loss.backward()\n",
        "            optimizer.step()\n",
        "            total_loss += loss.item()\n",
        "        print(f\"SimCLR Epoch {epoch+1}: Loss = {total_loss / len(loader):.4f}\")\n",
        "\n",
        "train_simclr(simclr_model, simclr_loader, optimizer, epochs=10)"
      ],
      "metadata": {
        "colab": {
          "base_uri": "https://localhost:8080/"
        },
        "id": "JTMzytngTa8z",
        "outputId": "53bb2912-2258-43f6-ff38-c8cff4f016ee"
      },
      "execution_count": null,
      "outputs": [
        {
          "output_type": "stream",
          "name": "stderr",
          "text": [
            "Downloading: \"https://download.pytorch.org/models/resnet18-f37072fd.pth\" to /root/.cache/torch/hub/checkpoints/resnet18-f37072fd.pth\n",
            "100%|██████████| 44.7M/44.7M [00:00<00:00, 195MB/s]\n"
          ]
        },
        {
          "output_type": "stream",
          "name": "stdout",
          "text": [
            "SimCLR Epoch 1: Loss = 5.2193\n",
            "SimCLR Epoch 2: Loss = 5.0688\n",
            "SimCLR Epoch 3: Loss = 5.0259\n",
            "SimCLR Epoch 4: Loss = 4.9989\n",
            "SimCLR Epoch 5: Loss = 4.9845\n",
            "SimCLR Epoch 6: Loss = 4.9616\n",
            "SimCLR Epoch 7: Loss = 4.9486\n",
            "SimCLR Epoch 8: Loss = 4.9383\n",
            "SimCLR Epoch 9: Loss = 4.9314\n",
            "SimCLR Epoch 10: Loss = 4.9248\n"
          ]
        }
      ]
    },
    {
      "cell_type": "code",
      "source": [
        "# === Этап III: Downstream задача (замороженный encoder) ===\n",
        "\n",
        "class Classifier(nn.Module):\n",
        "    def __init__(self, encoder, feature_dim=512, num_classes=10):\n",
        "        super().__init__()\n",
        "        self.encoder = encoder\n",
        "        for p in self.encoder.parameters():\n",
        "            p.requires_grad = False\n",
        "        self.encoder.fc = nn.Identity()\n",
        "        self.fc = nn.Linear(feature_dim, num_classes)\n",
        "\n",
        "    def forward(self, x):\n",
        "        with torch.no_grad():\n",
        "            features = self.encoder(x)\n",
        "        return self.fc(features)\n",
        "\n",
        "# Prepare downstream data\n",
        "full_dataset = datasets.CIFAR10(root='./data', train=False, download=True, transform=classifier_transform)\n",
        "train_size = int(0.8 * len(full_dataset))\n",
        "val_size = len(full_dataset) - train_size\n",
        "train_dataset, val_dataset = random_split(full_dataset, [train_size, val_size])\n",
        "train_loader = DataLoader(train_dataset, batch_size=64, shuffle=True)\n",
        "val_loader = DataLoader(val_dataset, batch_size=64, shuffle=False)\n",
        "\n",
        "classifier_model = Classifier(simclr_model.encoder).cuda()\n",
        "criterion = nn.CrossEntropyLoss()\n",
        "clf_optimizer = torch.optim.Adam(classifier_model.fc.parameters(), lr=1e-3)\n",
        "\n",
        "def train_classifier_with_loss(model, train_loader, val_loader, optimizer, criterion, epochs=10):\n",
        "    train_acc, val_acc, train_loss, val_loss = [], [], [], []\n",
        "    for epoch in range(epochs):\n",
        "        model.train()\n",
        "        correct, total, total_loss = 0, 0, 0\n",
        "        for x, y in train_loader:\n",
        "            x, y = x.cuda(), y.cuda()\n",
        "            logits = model(x)\n",
        "            loss = criterion(logits, y)\n",
        "            optimizer.zero_grad()\n",
        "            loss.backward()\n",
        "            optimizer.step()\n",
        "            preds = torch.argmax(logits, dim=1)\n",
        "            correct += (preds == y).sum().item()\n",
        "            total += y.size(0)\n",
        "            total_loss += loss.item()\n",
        "        train_acc.append(correct / total)\n",
        "        train_loss.append(total_loss / len(train_loader))\n",
        "\n",
        "        model.eval()\n",
        "        correct, total, total_loss = 0, 0, 0\n",
        "        with torch.no_grad():\n",
        "            for x, y in val_loader:\n",
        "                x, y = x.cuda(), y.cuda()\n",
        "                logits = model(x)\n",
        "                loss = criterion(logits, y)\n",
        "                preds = torch.argmax(logits, dim=1)\n",
        "                correct += (preds == y).sum().item()\n",
        "                total += y.size(0)\n",
        "                total_loss += loss.item()\n",
        "        val_acc.append(correct / total)\n",
        "        val_loss.append(total_loss / len(val_loader))\n",
        "\n",
        "        print(f\"Epoch {epoch+1}: Train Acc={train_acc[-1]:.4f}, Val Acc={val_acc[-1]:.4f}\")\n",
        "    return train_acc, val_acc, train_loss, val_loss\n",
        "\n",
        "simclr_train_acc, simclr_val_acc, simclr_train_loss, simclr_val_loss = train_classifier_with_loss(\n",
        "    classifier_model, train_loader, val_loader, clf_optimizer, criterion, epochs=10\n",
        ")"
      ],
      "metadata": {
        "colab": {
          "base_uri": "https://localhost:8080/"
        },
        "id": "Q6wpmoLsTa-2",
        "outputId": "3bddea49-7e69-4ad1-ea90-1711f9a8bb5d"
      },
      "execution_count": null,
      "outputs": [
        {
          "output_type": "stream",
          "name": "stdout",
          "text": [
            "Epoch 1: Train Acc=0.5443, Val Acc=0.5770\n",
            "Epoch 2: Train Acc=0.5854, Val Acc=0.5910\n",
            "Epoch 3: Train Acc=0.5865, Val Acc=0.5835\n",
            "Epoch 4: Train Acc=0.5921, Val Acc=0.5975\n",
            "Epoch 5: Train Acc=0.5899, Val Acc=0.5980\n",
            "Epoch 6: Train Acc=0.5923, Val Acc=0.6065\n",
            "Epoch 7: Train Acc=0.6058, Val Acc=0.6045\n",
            "Epoch 8: Train Acc=0.6028, Val Acc=0.5920\n",
            "Epoch 9: Train Acc=0.6044, Val Acc=0.6065\n",
            "Epoch 10: Train Acc=0.6088, Val Acc=0.6185\n"
          ]
        }
      ]
    },
    {
      "cell_type": "code",
      "source": [
        "# === Этап IV: Базовая модель (обучаем всё с нуля) ===\n",
        "\n",
        "class ClassifierFromScratch(nn.Module):\n",
        "    def __init__(self, feature_dim=512, num_classes=10):\n",
        "        super().__init__()\n",
        "        # self.encoder = resnet18(pretrained=False)\n",
        "        self.encoder = resnet18()\n",
        "        self.encoder.fc = nn.Identity()\n",
        "        self.fc = nn.Linear(feature_dim, num_classes)\n",
        "\n",
        "    def forward(self, x):\n",
        "        features = self.encoder(x)\n",
        "        return self.fc(features)\n",
        "\n",
        "scratch_model = ClassifierFromScratch().cuda()\n",
        "scratch_optimizer = torch.optim.Adam(scratch_model.parameters(), lr=1e-3)\n",
        "\n",
        "scratch_train_acc, scratch_val_acc, scratch_train_loss, scratch_val_loss = train_classifier_with_loss(\n",
        "    scratch_model, train_loader, val_loader, scratch_optimizer, criterion, epochs=10\n",
        ")"
      ],
      "metadata": {
        "colab": {
          "base_uri": "https://localhost:8080/"
        },
        "id": "FtZSt04ETHMD",
        "outputId": "f34ddcd5-071f-4091-b0e2-d284cad6a92f"
      },
      "execution_count": null,
      "outputs": [
        {
          "output_type": "stream",
          "name": "stdout",
          "text": [
            "Epoch 1: Train Acc=0.3546, Val Acc=0.4070\n",
            "Epoch 2: Train Acc=0.4870, Val Acc=0.4730\n",
            "Epoch 3: Train Acc=0.5540, Val Acc=0.5050\n",
            "Epoch 4: Train Acc=0.6185, Val Acc=0.5245\n",
            "Epoch 5: Train Acc=0.6719, Val Acc=0.5365\n",
            "Epoch 6: Train Acc=0.7278, Val Acc=0.5440\n",
            "Epoch 7: Train Acc=0.7821, Val Acc=0.5750\n",
            "Epoch 8: Train Acc=0.8316, Val Acc=0.5650\n",
            "Epoch 9: Train Acc=0.8556, Val Acc=0.5440\n",
            "Epoch 10: Train Acc=0.8899, Val Acc=0.5675\n"
          ]
        }
      ]
    },
    {
      "cell_type": "code",
      "source": [
        "# === Этап V: Визуализация ===\n",
        "\n",
        "epochs = range(1, 11)\n",
        "plt.figure(figsize=(10, 5))\n",
        "\n",
        "plt.subplot(2, 2, 1)\n",
        "plt.plot(epochs, simclr_val_acc, label='SimCLR (frozen)', color='blue')\n",
        "plt.plot(epochs, scratch_val_acc, label='Scratch (full train)', color='red')\n",
        "plt.xlabel('Epoch')\n",
        "plt.ylabel('Validation Accuracy')\n",
        "plt.title('Validation Accuracy')\n",
        "plt.legend()\n",
        "\n",
        "plt.subplot(2, 2, 2)\n",
        "plt.plot(epochs, simclr_train_loss, label='SimCLR (frozen)', color='blue')\n",
        "plt.plot(epochs, scratch_train_loss, label='Scratch (full train)', color='red')\n",
        "plt.xlabel('Epoch')\n",
        "plt.ylabel('Training Loss')\n",
        "plt.title('Training Loss')\n",
        "plt.legend()\n",
        "\n",
        "plt.subplot(2, 2, 3)\n",
        "plt.plot(epochs, simclr_train_acc, label='SimCLR (frozen)', color='blue')\n",
        "plt.plot(epochs, scratch_train_acc, label='Scratch (full train)', color='red')\n",
        "plt.xlabel('Epoch')\n",
        "plt.ylabel('Train Accuracy')\n",
        "plt.title('Train Accuracy')\n",
        "plt.legend()\n",
        "\n",
        "plt.subplot(2, 2, 4)\n",
        "plt.plot(epochs, simclr_val_loss, label='SimCLR (frozen)', color='blue')\n",
        "plt.plot(epochs, scratch_val_loss, label='Scratch (full train)', color='red')\n",
        "plt.xlabel('Epoch')\n",
        "plt.ylabel('Val Loss')\n",
        "plt.title('Val Loss')\n",
        "plt.legend()\n",
        "\n",
        "\n",
        "plt.tight_layout()\n",
        "plt.show()"
      ],
      "metadata": {
        "colab": {
          "base_uri": "https://localhost:8080/",
          "height": 507
        },
        "id": "QpQS-VaGTbAg",
        "outputId": "21844721-1478-4cdc-dc99-0e10e6871836"
      },
      "execution_count": null,
      "outputs": [
        {
          "output_type": "display_data",
          "data": {
            "text/plain": [
              "<Figure size 1000x500 with 4 Axes>"
            ],
            "image/png": "[encoded data removed]"
          },
          "metadata": {}
        }
      ]
    },
    {
      "cell_type": "code",
      "source": [],
      "metadata": {
        "id": "aAPMl_DBIHkp"
      },
      "execution_count": null,
      "outputs": []
    },
    {
      "cell_type": "markdown",
      "metadata": {
        "id": "4l87ZPxM0xO4"
      },
      "source": []
    }
  ],
  "metadata": {
    "accelerator": "GPU",
    "colab": {
      "provenance": []
    },
    "kernelspec": {
      "display_name": "Python 3 (ipykernel)",
      "language": "python",
      "name": "python3"
    },
    "language_info": {
      "codemirror_mode": {
        "name": "ipython",
        "version": 3
      },
      "file_extension": ".py",
      "mimetype": "text/x-python",
      "name": "python",
      "nbconvert_exporter": "python",
      "pygments_lexer": "ipython3",
      "version": "3.8.10"
    },
    "widgets": {
      "application/vnd.jupyter.widget-state+json": {
        "371364f3777e4502bba1d276c7e26e54": {
          "model_module": "@jupyter-widgets/controls",
          "model_name": "HBoxModel",
          "model_module_version": "1.5.0",
          "state": {
            "_dom_classes": [],
            "_model_module": "@jupyter-widgets/controls",
            "_model_module_version": "1.5.0",
            "_model_name": "HBoxModel",
            "_view_count": null,
            "_view_module": "@jupyter-widgets/controls",
            "_view_module_version": "1.5.0",
            "_view_name": "HBoxView",
            "box_style": "",
            "children": [
              "IPY_MODEL_16e91458c2c6427ab5ffc3465463f8be",
              "IPY_MODEL_e0a399392617411ab92d2389ed005337",
              "IPY_MODEL_1569a9bdb23046adb280400798af3e97"
            ],
            "layout": "IPY_MODEL_f653b035f69b4512952487db0b3f7c5d"
          }
        },
        "16e91458c2c6427ab5ffc3465463f8be": {
          "model_module": "@jupyter-widgets/controls",
          "model_name": "HTMLModel",
          "model_module_version": "1.5.0",
          "state": {
            "_dom_classes": [],
            "_model_module": "@jupyter-widgets/controls",
            "_model_module_version": "1.5.0",
            "_model_name": "HTMLModel",
            "_view_count": null,
            "_view_module": "@jupyter-widgets/controls",
            "_view_module_version": "1.5.0",
            "_view_name": "HTMLView",
            "description": "",
            "description_tooltip": null,
            "layout": "IPY_MODEL_06286765363f47f488c3072255ffc1db",
            "placeholder": "​",
            "style": "IPY_MODEL_95de54a1647341baa5014eaa42e60fa2",
            "value": "Epoch 1 train: 100%"
          }
        },
        "e0a399392617411ab92d2389ed005337": {
          "model_module": "@jupyter-widgets/controls",
          "model_name": "FloatProgressModel",
          "model_module_version": "1.5.0",
          "state": {
            "_dom_classes": [],
            "_model_module": "@jupyter-widgets/controls",
            "_model_module_version": "1.5.0",
            "_model_name": "FloatProgressModel",
            "_view_count": null,
            "_view_module": "@jupyter-widgets/controls",
            "_view_module_version": "1.5.0",
            "_view_name": "ProgressView",
            "bar_style": "success",
            "description": "",
            "description_tooltip": null,
            "layout": "IPY_MODEL_bcf0d099493d44158e6f2e7178ff279e",
            "max": 666,
            "min": 0,
            "orientation": "horizontal",
            "style": "IPY_MODEL_e009cb3b95a4431090d4bdcb1f2a31ba",
            "value": 666
          }
        },
        "1569a9bdb23046adb280400798af3e97": {
          "model_module": "@jupyter-widgets/controls",
          "model_name": "HTMLModel",
          "model_module_version": "1.5.0",
          "state": {
            "_dom_classes": [],
            "_model_module": "@jupyter-widgets/controls",
            "_model_module_version": "1.5.0",
            "_model_name": "HTMLModel",
            "_view_count": null,
            "_view_module": "@jupyter-widgets/controls",
            "_view_module_version": "1.5.0",
            "_view_name": "HTMLView",
            "description": "",
            "description_tooltip": null,
            "layout": "IPY_MODEL_1369ced5139c46dfa067a2b8a731c781",
            "placeholder": "​",
            "style": "IPY_MODEL_21df43e1d82c4974b9d9fc362f33ed58",
            "value": " 666/666 [00:58&lt;00:00,  8.37it/s]"
          }
        },
        "f653b035f69b4512952487db0b3f7c5d": {
          "model_module": "@jupyter-widgets/base",
          "model_name": "LayoutModel",
          "model_module_version": "1.2.0",
          "state": {
            "_model_module": "@jupyter-widgets/base",
            "_model_module_version": "1.2.0",
            "_model_name": "LayoutModel",
            "_view_count": null,
            "_view_module": "@jupyter-widgets/base",
            "_view_module_version": "1.2.0",
            "_view_name": "LayoutView",
            "align_content": null,
            "align_items": null,
            "align_self": null,
            "border": null,
            "bottom": null,
            "display": null,
            "flex": null,
            "flex_flow": null,
            "grid_area": null,
            "grid_auto_columns": null,
            "grid_auto_flow": null,
            "grid_auto_rows": null,
            "grid_column": null,
            "grid_gap": null,
            "grid_row": null,
            "grid_template_areas": null,
            "grid_template_columns": null,
            "grid_template_rows": null,
            "height": null,
            "justify_content": null,
            "justify_items": null,
            "left": null,
            "margin": null,
            "max_height": null,
            "max_width": null,
            "min_height": null,
            "min_width": null,
            "object_fit": null,
            "object_position": null,
            "order": null,
            "overflow": null,
            "overflow_x": null,
            "overflow_y": null,
            "padding": null,
            "right": null,
            "top": null,
            "visibility": null,
            "width": null
          }
        },
        "06286765363f47f488c3072255ffc1db": {
          "model_module": "@jupyter-widgets/base",
          "model_name": "LayoutModel",
          "model_module_version": "1.2.0",
          "state": {
            "_model_module": "@jupyter-widgets/base",
            "_model_module_version": "1.2.0",
            "_model_name": "LayoutModel",
            "_view_count": null,
            "_view_module": "@jupyter-widgets/base",
            "_view_module_version": "1.2.0",
            "_view_name": "LayoutView",
            "align_content": null,
            "align_items": null,
            "align_self": null,
            "border": null,
            "bottom": null,
            "display": null,
            "flex": null,
            "flex_flow": null,
            "grid_area": null,
            "grid_auto_columns": null,
            "grid_auto_flow": null,
            "grid_auto_rows": null,
            "grid_column": null,
            "grid_gap": null,
            "grid_row": null,
            "grid_template_areas": null,
            "grid_template_columns": null,
            "grid_template_rows": null,
            "height": null,
            "justify_content": null,
            "justify_items": null,
            "left": null,
            "margin": null,
            "max_height": null,
            "max_width": null,
            "min_height": null,
            "min_width": null,
            "object_fit": null,
            "object_position": null,
            "order": null,
            "overflow": null,
            "overflow_x": null,
            "overflow_y": null,
            "padding": null,
            "right": null,
            "top": null,
            "visibility": null,
            "width": null
          }
        },
        "95de54a1647341baa5014eaa42e60fa2": {
          "model_module": "@jupyter-widgets/controls",
          "model_name": "DescriptionStyleModel",
          "model_module_version": "1.5.0",
          "state": {
            "_model_module": "@jupyter-widgets/controls",
            "_model_module_version": "1.5.0",
            "_model_name": "DescriptionStyleModel",
            "_view_count": null,
            "_view_module": "@jupyter-widgets/base",
            "_view_module_version": "1.2.0",
            "_view_name": "StyleView",
            "description_width": ""
          }
        },
        "bcf0d099493d44158e6f2e7178ff279e": {
          "model_module": "@jupyter-widgets/base",
          "model_name": "LayoutModel",
          "model_module_version": "1.2.0",
          "state": {
            "_model_module": "@jupyter-widgets/base",
            "_model_module_version": "1.2.0",
            "_model_name": "LayoutModel",
            "_view_count": null,
            "_view_module": "@jupyter-widgets/base",
            "_view_module_version": "1.2.0",
            "_view_name": "LayoutView",
            "align_content": null,
            "align_items": null,
            "align_self": null,
            "border": null,
            "bottom": null,
            "display": null,
            "flex": null,
            "flex_flow": null,
            "grid_area": null,
            "grid_auto_columns": null,
            "grid_auto_flow": null,
            "grid_auto_rows": null,
            "grid_column": null,
            "grid_gap": null,
            "grid_row": null,
            "grid_template_areas": null,
            "grid_template_columns": null,
            "grid_template_rows": null,
            "height": null,
            "justify_content": null,
            "justify_items": null,
            "left": null,
            "margin": null,
            "max_height": null,
            "max_width": null,
            "min_height": null,
            "min_width": null,
            "object_fit": null,
            "object_position": null,
            "order": null,
            "overflow": null,
            "overflow_x": null,
            "overflow_y": null,
            "padding": null,
            "right": null,
            "top": null,
            "visibility": null,
            "width": null
          }
        },
        "e009cb3b95a4431090d4bdcb1f2a31ba": {
          "model_module": "@jupyter-widgets/controls",
          "model_name": "ProgressStyleModel",
          "model_module_version": "1.5.0",
          "state": {
            "_model_module": "@jupyter-widgets/controls",
            "_model_module_version": "1.5.0",
            "_model_name": "ProgressStyleModel",
            "_view_count": null,
            "_view_module": "@jupyter-widgets/base",
            "_view_module_version": "1.2.0",
            "_view_name": "StyleView",
            "bar_color": null,
            "description_width": ""
          }
        },
        "1369ced5139c46dfa067a2b8a731c781": {
          "model_module": "@jupyter-widgets/base",
          "model_name": "LayoutModel",
          "model_module_version": "1.2.0",
          "state": {
            "_model_module": "@jupyter-widgets/base",
            "_model_module_version": "1.2.0",
            "_model_name": "LayoutModel",
            "_view_count": null,
            "_view_module": "@jupyter-widgets/base",
            "_view_module_version": "1.2.0",
            "_view_name": "LayoutView",
            "align_content": null,
            "align_items": null,
            "align_self": null,
            "border": null,
            "bottom": null,
            "display": null,
            "flex": null,
            "flex_flow": null,
            "grid_area": null,
            "grid_auto_columns": null,
            "grid_auto_flow": null,
            "grid_auto_rows": null,
            "grid_column": null,
            "grid_gap": null,
            "grid_row": null,
            "grid_template_areas": null,
            "grid_template_columns": null,
            "grid_template_rows": null,
            "height": null,
            "justify_content": null,
            "justify_items": null,
            "left": null,
            "margin": null,
            "max_height": null,
            "max_width": null,
            "min_height": null,
            "min_width": null,
            "object_fit": null,
            "object_position": null,
            "order": null,
            "overflow": null,
            "overflow_x": null,
            "overflow_y": null,
            "padding": null,
            "right": null,
            "top": null,
            "visibility": null,
            "width": null
          }
        },
        "21df43e1d82c4974b9d9fc362f33ed58": {
          "model_module": "@jupyter-widgets/controls",
          "model_name": "DescriptionStyleModel",
          "model_module_version": "1.5.0",
          "state": {
            "_model_module": "@jupyter-widgets/controls",
            "_model_module_version": "1.5.0",
            "_model_name": "DescriptionStyleModel",
            "_view_count": null,
            "_view_module": "@jupyter-widgets/base",
            "_view_module_version": "1.2.0",
            "_view_name": "StyleView",
            "description_width": ""
          }
        },
        "7baf30bad0514adb8f818b3073904559": {
          "model_module": "@jupyter-widgets/controls",
          "model_name": "HBoxModel",
          "model_module_version": "1.5.0",
          "state": {
            "_dom_classes": [],
            "_model_module": "@jupyter-widgets/controls",
            "_model_module_version": "1.5.0",
            "_model_name": "HBoxModel",
            "_view_count": null,
            "_view_module": "@jupyter-widgets/controls",
            "_view_module_version": "1.5.0",
            "_view_name": "HBoxView",
            "box_style": "",
            "children": [
              "IPY_MODEL_5d591ccf6a454bcca8bcaa0341302c67",
              "IPY_MODEL_12873d84603149f7b23d2f7d4af3e97c",
              "IPY_MODEL_c3f78e80c17e4f55a29ad0f4ce4201ed"
            ],
            "layout": "IPY_MODEL_f4a3fc61589344aa829361e4210b6d01"
          }
        },
        "5d591ccf6a454bcca8bcaa0341302c67": {
          "model_module": "@jupyter-widgets/controls",
          "model_name": "HTMLModel",
          "model_module_version": "1.5.0",
          "state": {
            "_dom_classes": [],
            "_model_module": "@jupyter-widgets/controls",
            "_model_module_version": "1.5.0",
            "_model_name": "HTMLModel",
            "_view_count": null,
            "_view_module": "@jupyter-widgets/controls",
            "_view_module_version": "1.5.0",
            "_view_name": "HTMLView",
            "description": "",
            "description_tooltip": null,
            "layout": "IPY_MODEL_58dbe6b459134cf7aca36b68b10d6e02",
            "placeholder": "​",
            "style": "IPY_MODEL_706a68d6ef12447a98cb239198a9f94f",
            "value": "Epoch 2 train: 100%"
          }
        },
        "12873d84603149f7b23d2f7d4af3e97c": {
          "model_module": "@jupyter-widgets/controls",
          "model_name": "FloatProgressModel",
          "model_module_version": "1.5.0",
          "state": {
            "_dom_classes": [],
            "_model_module": "@jupyter-widgets/controls",
            "_model_module_version": "1.5.0",
            "_model_name": "FloatProgressModel",
            "_view_count": null,
            "_view_module": "@jupyter-widgets/controls",
            "_view_module_version": "1.5.0",
            "_view_name": "ProgressView",
            "bar_style": "success",
            "description": "",
            "description_tooltip": null,
            "layout": "IPY_MODEL_1c6e80e9027f4920abebc4b774f16166",
            "max": 666,
            "min": 0,
            "orientation": "horizontal",
            "style": "IPY_MODEL_e803c8d4ca9d4b069b629e07d3f21fdf",
            "value": 666
          }
        },
        "c3f78e80c17e4f55a29ad0f4ce4201ed": {
          "model_module": "@jupyter-widgets/controls",
          "model_name": "HTMLModel",
          "model_module_version": "1.5.0",
          "state": {
            "_dom_classes": [],
            "_model_module": "@jupyter-widgets/controls",
            "_model_module_version": "1.5.0",
            "_model_name": "HTMLModel",
            "_view_count": null,
            "_view_module": "@jupyter-widgets/controls",
            "_view_module_version": "1.5.0",
            "_view_name": "HTMLView",
            "description": "",
            "description_tooltip": null,
            "layout": "IPY_MODEL_8d59b06091e2413baecbe6c8d2ac4ef6",
            "placeholder": "​",
            "style": "IPY_MODEL_de5408a348e74b04b4bb61965f52f057",
            "value": " 666/666 [00:58&lt;00:00, 12.41it/s]"
          }
        },
        "f4a3fc61589344aa829361e4210b6d01": {
          "model_module": "@jupyter-widgets/base",
          "model_name": "LayoutModel",
          "model_module_version": "1.2.0",
          "state": {
            "_model_module": "@jupyter-widgets/base",
            "_model_module_version": "1.2.0",
            "_model_name": "LayoutModel",
            "_view_count": null,
            "_view_module": "@jupyter-widgets/base",
            "_view_module_version": "1.2.0",
            "_view_name": "LayoutView",
            "align_content": null,
            "align_items": null,
            "align_self": null,
            "border": null,
            "bottom": null,
            "display": null,
            "flex": null,
            "flex_flow": null,
            "grid_area": null,
            "grid_auto_columns": null,
            "grid_auto_flow": null,
            "grid_auto_rows": null,
            "grid_column": null,
            "grid_gap": null,
            "grid_row": null,
            "grid_template_areas": null,
            "grid_template_columns": null,
            "grid_template_rows": null,
            "height": null,
            "justify_content": null,
            "justify_items": null,
            "left": null,
            "margin": null,
            "max_height": null,
            "max_width": null,
            "min_height": null,
            "min_width": null,
            "object_fit": null,
            "object_position": null,
            "order": null,
            "overflow": null,
            "overflow_x": null,
            "overflow_y": null,
            "padding": null,
            "right": null,
            "top": null,
            "visibility": null,
            "width": null
          }
        },
        "58dbe6b459134cf7aca36b68b10d6e02": {
          "model_module": "@jupyter-widgets/base",
          "model_name": "LayoutModel",
          "model_module_version": "1.2.0",
          "state": {
            "_model_module": "@jupyter-widgets/base",
            "_model_module_version": "1.2.0",
            "_model_name": "LayoutModel",
            "_view_count": null,
            "_view_module": "@jupyter-widgets/base",
            "_view_module_version": "1.2.0",
            "_view_name": "LayoutView",
            "align_content": null,
            "align_items": null,
            "align_self": null,
            "border": null,
            "bottom": null,
            "display": null,
            "flex": null,
            "flex_flow": null,
            "grid_area": null,
            "grid_auto_columns": null,
            "grid_auto_flow": null,
            "grid_auto_rows": null,
            "grid_column": null,
            "grid_gap": null,
            "grid_row": null,
            "grid_template_areas": null,
            "grid_template_columns": null,
            "grid_template_rows": null,
            "height": null,
            "justify_content": null,
            "justify_items": null,
            "left": null,
            "margin": null,
            "max_height": null,
            "max_width": null,
            "min_height": null,
            "min_width": null,
            "object_fit": null,
            "object_position": null,
            "order": null,
            "overflow": null,
            "overflow_x": null,
            "overflow_y": null,
            "padding": null,
            "right": null,
            "top": null,
            "visibility": null,
            "width": null
          }
        },
        "706a68d6ef12447a98cb239198a9f94f": {
          "model_module": "@jupyter-widgets/controls",
          "model_name": "DescriptionStyleModel",
          "model_module_version": "1.5.0",
          "state": {
            "_model_module": "@jupyter-widgets/controls",
            "_model_module_version": "1.5.0",
            "_model_name": "DescriptionStyleModel",
            "_view_count": null,
            "_view_module": "@jupyter-widgets/base",
            "_view_module_version": "1.2.0",
            "_view_name": "StyleView",
            "description_width": ""
          }
        },
        "1c6e80e9027f4920abebc4b774f16166": {
          "model_module": "@jupyter-widgets/base",
          "model_name": "LayoutModel",
          "model_module_version": "1.2.0",
          "state": {
            "_model_module": "@jupyter-widgets/base",
            "_model_module_version": "1.2.0",
            "_model_name": "LayoutModel",
            "_view_count": null,
            "_view_module": "@jupyter-widgets/base",
            "_view_module_version": "1.2.0",
            "_view_name": "LayoutView",
            "align_content": null,
            "align_items": null,
            "align_self": null,
            "border": null,
            "bottom": null,
            "display": null,
            "flex": null,
            "flex_flow": null,
            "grid_area": null,
            "grid_auto_columns": null,
            "grid_auto_flow": null,
            "grid_auto_rows": null,
            "grid_column": null,
            "grid_gap": null,
            "grid_row": null,
            "grid_template_areas": null,
            "grid_template_columns": null,
            "grid_template_rows": null,
            "height": null,
            "justify_content": null,
            "justify_items": null,
            "left": null,
            "margin": null,
            "max_height": null,
            "max_width": null,
            "min_height": null,
            "min_width": null,
            "object_fit": null,
            "object_position": null,
            "order": null,
            "overflow": null,
            "overflow_x": null,
            "overflow_y": null,
            "padding": null,
            "right": null,
            "top": null,
            "visibility": null,
            "width": null
          }
        },
        "e803c8d4ca9d4b069b629e07d3f21fdf": {
          "model_module": "@jupyter-widgets/controls",
          "model_name": "ProgressStyleModel",
          "model_module_version": "1.5.0",
          "state": {
            "_model_module": "@jupyter-widgets/controls",
            "_model_module_version": "1.5.0",
            "_model_name": "ProgressStyleModel",
            "_view_count": null,
            "_view_module": "@jupyter-widgets/base",
            "_view_module_version": "1.2.0",
            "_view_name": "StyleView",
            "bar_color": null,
            "description_width": ""
          }
        },
        "8d59b06091e2413baecbe6c8d2ac4ef6": {
          "model_module": "@jupyter-widgets/base",
          "model_name": "LayoutModel",
          "model_module_version": "1.2.0",
          "state": {
            "_model_module": "@jupyter-widgets/base",
            "_model_module_version": "1.2.0",
            "_model_name": "LayoutModel",
            "_view_count": null,
            "_view_module": "@jupyter-widgets/base",
            "_view_module_version": "1.2.0",
            "_view_name": "LayoutView",
            "align_content": null,
            "align_items": null,
            "align_self": null,
            "border": null,
            "bottom": null,
            "display": null,
            "flex": null,
            "flex_flow": null,
            "grid_area": null,
            "grid_auto_columns": null,
            "grid_auto_flow": null,
            "grid_auto_rows": null,
            "grid_column": null,
            "grid_gap": null,
            "grid_row": null,
            "grid_template_areas": null,
            "grid_template_columns": null,
            "grid_template_rows": null,
            "height": null,
            "justify_content": null,
            "justify_items": null,
            "left": null,
            "margin": null,
            "max_height": null,
            "max_width": null,
            "min_height": null,
            "min_width": null,
            "object_fit": null,
            "object_position": null,
            "order": null,
            "overflow": null,
            "overflow_x": null,
            "overflow_y": null,
            "padding": null,
            "right": null,
            "top": null,
            "visibility": null,
            "width": null
          }
        },
        "de5408a348e74b04b4bb61965f52f057": {
          "model_module": "@jupyter-widgets/controls",
          "model_name": "DescriptionStyleModel",
          "model_module_version": "1.5.0",
          "state": {
            "_model_module": "@jupyter-widgets/controls",
            "_model_module_version": "1.5.0",
            "_model_name": "DescriptionStyleModel",
            "_view_count": null,
            "_view_module": "@jupyter-widgets/base",
            "_view_module_version": "1.2.0",
            "_view_name": "StyleView",
            "description_width": ""
          }
        },
        "0bf141ee344b40f489277b6ff80ca22c": {
          "model_module": "@jupyter-widgets/controls",
          "model_name": "HBoxModel",
          "model_module_version": "1.5.0",
          "state": {
            "_dom_classes": [],
            "_model_module": "@jupyter-widgets/controls",
            "_model_module_version": "1.5.0",
            "_model_name": "HBoxModel",
            "_view_count": null,
            "_view_module": "@jupyter-widgets/controls",
            "_view_module_version": "1.5.0",
            "_view_name": "HBoxView",
            "box_style": "",
            "children": [
              "IPY_MODEL_c8cf228fce51445bb3e1949d996d89f3",
              "IPY_MODEL_0634278fcb174a3ba5dec330cb9d74fc",
              "IPY_MODEL_d9b9a1d39ad740d2b33cec567fbf3620"
            ],
            "layout": "IPY_MODEL_9e31074ef151464b9e3e2f9732e6854e"
          }
        },
        "c8cf228fce51445bb3e1949d996d89f3": {
          "model_module": "@jupyter-widgets/controls",
          "model_name": "HTMLModel",
          "model_module_version": "1.5.0",
          "state": {
            "_dom_classes": [],
            "_model_module": "@jupyter-widgets/controls",
            "_model_module_version": "1.5.0",
            "_model_name": "HTMLModel",
            "_view_count": null,
            "_view_module": "@jupyter-widgets/controls",
            "_view_module_version": "1.5.0",
            "_view_name": "HTMLView",
            "description": "",
            "description_tooltip": null,
            "layout": "IPY_MODEL_3ae866ad125e4463bd9a8cfad94ced40",
            "placeholder": "​",
            "style": "IPY_MODEL_6ad81c05d3d04335adaa3d4314a8cc47",
            "value": "Epoch 3 train: 100%"
          }
        },
        "0634278fcb174a3ba5dec330cb9d74fc": {
          "model_module": "@jupyter-widgets/controls",
          "model_name": "FloatProgressModel",
          "model_module_version": "1.5.0",
          "state": {
            "_dom_classes": [],
            "_model_module": "@jupyter-widgets/controls",
            "_model_module_version": "1.5.0",
            "_model_name": "FloatProgressModel",
            "_view_count": null,
            "_view_module": "@jupyter-widgets/controls",
            "_view_module_version": "1.5.0",
            "_view_name": "ProgressView",
            "bar_style": "success",
            "description": "",
            "description_tooltip": null,
            "layout": "IPY_MODEL_af649f1f5e344d5ba9babeb326818cae",
            "max": 666,
            "min": 0,
            "orientation": "horizontal",
            "style": "IPY_MODEL_d27b5c75ffad4382985c0b419916f2b3",
            "value": 666
          }
        },
        "d9b9a1d39ad740d2b33cec567fbf3620": {
          "model_module": "@jupyter-widgets/controls",
          "model_name": "HTMLModel",
          "model_module_version": "1.5.0",
          "state": {
            "_dom_classes": [],
            "_model_module": "@jupyter-widgets/controls",
            "_model_module_version": "1.5.0",
            "_model_name": "HTMLModel",
            "_view_count": null,
            "_view_module": "@jupyter-widgets/controls",
            "_view_module_version": "1.5.0",
            "_view_name": "HTMLView",
            "description": "",
            "description_tooltip": null,
            "layout": "IPY_MODEL_9844df72e6a64f1bac9b47547e382ca3",
            "placeholder": "​",
            "style": "IPY_MODEL_74c49e5540bc4787b00a2a1e18bb30f3",
            "value": " 666/666 [00:58&lt;00:00,  8.02it/s]"
          }
        },
        "9e31074ef151464b9e3e2f9732e6854e": {
          "model_module": "@jupyter-widgets/base",
          "model_name": "LayoutModel",
          "model_module_version": "1.2.0",
          "state": {
            "_model_module": "@jupyter-widgets/base",
            "_model_module_version": "1.2.0",
            "_model_name": "LayoutModel",
            "_view_count": null,
            "_view_module": "@jupyter-widgets/base",
            "_view_module_version": "1.2.0",
            "_view_name": "LayoutView",
            "align_content": null,
            "align_items": null,
            "align_self": null,
            "border": null,
            "bottom": null,
            "display": null,
            "flex": null,
            "flex_flow": null,
            "grid_area": null,
            "grid_auto_columns": null,
            "grid_auto_flow": null,
            "grid_auto_rows": null,
            "grid_column": null,
            "grid_gap": null,
            "grid_row": null,
            "grid_template_areas": null,
            "grid_template_columns": null,
            "grid_template_rows": null,
            "height": null,
            "justify_content": null,
            "justify_items": null,
            "left": null,
            "margin": null,
            "max_height": null,
            "max_width": null,
            "min_height": null,
            "min_width": null,
            "object_fit": null,
            "object_position": null,
            "order": null,
            "overflow": null,
            "overflow_x": null,
            "overflow_y": null,
            "padding": null,
            "right": null,
            "top": null,
            "visibility": null,
            "width": null
          }
        },
        "3ae866ad125e4463bd9a8cfad94ced40": {
          "model_module": "@jupyter-widgets/base",
          "model_name": "LayoutModel",
          "model_module_version": "1.2.0",
          "state": {
            "_model_module": "@jupyter-widgets/base",
            "_model_module_version": "1.2.0",
            "_model_name": "LayoutModel",
            "_view_count": null,
            "_view_module": "@jupyter-widgets/base",
            "_view_module_version": "1.2.0",
            "_view_name": "LayoutView",
            "align_content": null,
            "align_items": null,
            "align_self": null,
            "border": null,
            "bottom": null,
            "display": null,
            "flex": null,
            "flex_flow": null,
            "grid_area": null,
            "grid_auto_columns": null,
            "grid_auto_flow": null,
            "grid_auto_rows": null,
            "grid_column": null,
            "grid_gap": null,
            "grid_row": null,
            "grid_template_areas": null,
            "grid_template_columns": null,
            "grid_template_rows": null,
            "height": null,
            "justify_content": null,
            "justify_items": null,
            "left": null,
            "margin": null,
            "max_height": null,
            "max_width": null,
            "min_height": null,
            "min_width": null,
            "object_fit": null,
            "object_position": null,
            "order": null,
            "overflow": null,
            "overflow_x": null,
            "overflow_y": null,
            "padding": null,
            "right": null,
            "top": null,
            "visibility": null,
            "width": null
          }
        },
        "6ad81c05d3d04335adaa3d4314a8cc47": {
          "model_module": "@jupyter-widgets/controls",
          "model_name": "DescriptionStyleModel",
          "model_module_version": "1.5.0",
          "state": {
            "_model_module": "@jupyter-widgets/controls",
            "_model_module_version": "1.5.0",
            "_model_name": "DescriptionStyleModel",
            "_view_count": null,
            "_view_module": "@jupyter-widgets/base",
            "_view_module_version": "1.2.0",
            "_view_name": "StyleView",
            "description_width": ""
          }
        },
        "af649f1f5e344d5ba9babeb326818cae": {
          "model_module": "@jupyter-widgets/base",
          "model_name": "LayoutModel",
          "model_module_version": "1.2.0",
          "state": {
            "_model_module": "@jupyter-widgets/base",
            "_model_module_version": "1.2.0",
            "_model_name": "LayoutModel",
            "_view_count": null,
            "_view_module": "@jupyter-widgets/base",
            "_view_module_version": "1.2.0",
            "_view_name": "LayoutView",
            "align_content": null,
            "align_items": null,
            "align_self": null,
            "border": null,
            "bottom": null,
            "display": null,
            "flex": null,
            "flex_flow": null,
            "grid_area": null,
            "grid_auto_columns": null,
            "grid_auto_flow": null,
            "grid_auto_rows": null,
            "grid_column": null,
            "grid_gap": null,
            "grid_row": null,
            "grid_template_areas": null,
            "grid_template_columns": null,
            "grid_template_rows": null,
            "height": null,
            "justify_content": null,
            "justify_items": null,
            "left": null,
            "margin": null,
            "max_height": null,
            "max_width": null,
            "min_height": null,
            "min_width": null,
            "object_fit": null,
            "object_position": null,
            "order": null,
            "overflow": null,
            "overflow_x": null,
            "overflow_y": null,
            "padding": null,
            "right": null,
            "top": null,
            "visibility": null,
            "width": null
          }
        },
        "d27b5c75ffad4382985c0b419916f2b3": {
          "model_module": "@jupyter-widgets/controls",
          "model_name": "ProgressStyleModel",
          "model_module_version": "1.5.0",
          "state": {
            "_model_module": "@jupyter-widgets/controls",
            "_model_module_version": "1.5.0",
            "_model_name": "ProgressStyleModel",
            "_view_count": null,
            "_view_module": "@jupyter-widgets/base",
            "_view_module_version": "1.2.0",
            "_view_name": "StyleView",
            "bar_color": null,
            "description_width": ""
          }
        },
        "9844df72e6a64f1bac9b47547e382ca3": {
          "model_module": "@jupyter-widgets/base",
          "model_name": "LayoutModel",
          "model_module_version": "1.2.0",
          "state": {
            "_model_module": "@jupyter-widgets/base",
            "_model_module_version": "1.2.0",
            "_model_name": "LayoutModel",
            "_view_count": null,
            "_view_module": "@jupyter-widgets/base",
            "_view_module_version": "1.2.0",
            "_view_name": "LayoutView",
            "align_content": null,
            "align_items": null,
            "align_self": null,
            "border": null,
            "bottom": null,
            "display": null,
            "flex": null,
            "flex_flow": null,
            "grid_area": null,
            "grid_auto_columns": null,
            "grid_auto_flow": null,
            "grid_auto_rows": null,
            "grid_column": null,
            "grid_gap": null,
            "grid_row": null,
            "grid_template_areas": null,
            "grid_template_columns": null,
            "grid_template_rows": null,
            "height": null,
            "justify_content": null,
            "justify_items": null,
            "left": null,
            "margin": null,
            "max_height": null,
            "max_width": null,
            "min_height": null,
            "min_width": null,
            "object_fit": null,
            "object_position": null,
            "order": null,
            "overflow": null,
            "overflow_x": null,
            "overflow_y": null,
            "padding": null,
            "right": null,
            "top": null,
            "visibility": null,
            "width": null
          }
        },
        "74c49e5540bc4787b00a2a1e18bb30f3": {
          "model_module": "@jupyter-widgets/controls",
          "model_name": "DescriptionStyleModel",
          "model_module_version": "1.5.0",
          "state": {
            "_model_module": "@jupyter-widgets/controls",
            "_model_module_version": "1.5.0",
            "_model_name": "DescriptionStyleModel",
            "_view_count": null,
            "_view_module": "@jupyter-widgets/base",
            "_view_module_version": "1.2.0",
            "_view_name": "StyleView",
            "description_width": ""
          }
        },
        "9c3476036d1a4477848e8e6acb9fbd06": {
          "model_module": "@jupyter-widgets/controls",
          "model_name": "HBoxModel",
          "model_module_version": "1.5.0",
          "state": {
            "_dom_classes": [],
            "_model_module": "@jupyter-widgets/controls",
            "_model_module_version": "1.5.0",
            "_model_name": "HBoxModel",
            "_view_count": null,
            "_view_module": "@jupyter-widgets/controls",
            "_view_module_version": "1.5.0",
            "_view_name": "HBoxView",
            "box_style": "",
            "children": [
              "IPY_MODEL_654d8c0df62a496cbbdefd34c3df9fb5",
              "IPY_MODEL_495a4e8428864d6b8461ac0f22e40748",
              "IPY_MODEL_b3642d7038d54c5abaac45c5ca404278"
            ],
            "layout": "IPY_MODEL_e1767f4c33834ef68bf67345d362fa52"
          }
        },
        "654d8c0df62a496cbbdefd34c3df9fb5": {
          "model_module": "@jupyter-widgets/controls",
          "model_name": "HTMLModel",
          "model_module_version": "1.5.0",
          "state": {
            "_dom_classes": [],
            "_model_module": "@jupyter-widgets/controls",
            "_model_module_version": "1.5.0",
            "_model_name": "HTMLModel",
            "_view_count": null,
            "_view_module": "@jupyter-widgets/controls",
            "_view_module_version": "1.5.0",
            "_view_name": "HTMLView",
            "description": "",
            "description_tooltip": null,
            "layout": "IPY_MODEL_aa5e020fc6d8414cbc050778b570d4dc",
            "placeholder": "​",
            "style": "IPY_MODEL_710d8034731c41669392667525dc139d",
            "value": "Epoch 4 train: 100%"
          }
        },
        "495a4e8428864d6b8461ac0f22e40748": {
          "model_module": "@jupyter-widgets/controls",
          "model_name": "FloatProgressModel",
          "model_module_version": "1.5.0",
          "state": {
            "_dom_classes": [],
            "_model_module": "@jupyter-widgets/controls",
            "_model_module_version": "1.5.0",
            "_model_name": "FloatProgressModel",
            "_view_count": null,
            "_view_module": "@jupyter-widgets/controls",
            "_view_module_version": "1.5.0",
            "_view_name": "ProgressView",
            "bar_style": "success",
            "description": "",
            "description_tooltip": null,
            "layout": "IPY_MODEL_c5c8c740a7924cdf9009a53455f9bf09",
            "max": 666,
            "min": 0,
            "orientation": "horizontal",
            "style": "IPY_MODEL_341b01864aad41f8921f4a4eeb0fc23e",
            "value": 666
          }
        },
        "b3642d7038d54c5abaac45c5ca404278": {
          "model_module": "@jupyter-widgets/controls",
          "model_name": "HTMLModel",
          "model_module_version": "1.5.0",
          "state": {
            "_dom_classes": [],
            "_model_module": "@jupyter-widgets/controls",
            "_model_module_version": "1.5.0",
            "_model_name": "HTMLModel",
            "_view_count": null,
            "_view_module": "@jupyter-widgets/controls",
            "_view_module_version": "1.5.0",
            "_view_name": "HTMLView",
            "description": "",
            "description_tooltip": null,
            "layout": "IPY_MODEL_0037301dc492429d841a35a23c1aa51b",
            "placeholder": "​",
            "style": "IPY_MODEL_cccc19581d71469bbdeaded23249b465",
            "value": " 666/666 [00:59&lt;00:00, 12.59it/s]"
          }
        },
        "e1767f4c33834ef68bf67345d362fa52": {
          "model_module": "@jupyter-widgets/base",
          "model_name": "LayoutModel",
          "model_module_version": "1.2.0",
          "state": {
            "_model_module": "@jupyter-widgets/base",
            "_model_module_version": "1.2.0",
            "_model_name": "LayoutModel",
            "_view_count": null,
            "_view_module": "@jupyter-widgets/base",
            "_view_module_version": "1.2.0",
            "_view_name": "LayoutView",
            "align_content": null,
            "align_items": null,
            "align_self": null,
            "border": null,
            "bottom": null,
            "display": null,
            "flex": null,
            "flex_flow": null,
            "grid_area": null,
            "grid_auto_columns": null,
            "grid_auto_flow": null,
            "grid_auto_rows": null,
            "grid_column": null,
            "grid_gap": null,
            "grid_row": null,
            "grid_template_areas": null,
            "grid_template_columns": null,
            "grid_template_rows": null,
            "height": null,
            "justify_content": null,
            "justify_items": null,
            "left": null,
            "margin": null,
            "max_height": null,
            "max_width": null,
            "min_height": null,
            "min_width": null,
            "object_fit": null,
            "object_position": null,
            "order": null,
            "overflow": null,
            "overflow_x": null,
            "overflow_y": null,
            "padding": null,
            "right": null,
            "top": null,
            "visibility": null,
            "width": null
          }
        },
        "aa5e020fc6d8414cbc050778b570d4dc": {
          "model_module": "@jupyter-widgets/base",
          "model_name": "LayoutModel",
          "model_module_version": "1.2.0",
          "state": {
            "_model_module": "@jupyter-widgets/base",
            "_model_module_version": "1.2.0",
            "_model_name": "LayoutModel",
            "_view_count": null,
            "_view_module": "@jupyter-widgets/base",
            "_view_module_version": "1.2.0",
            "_view_name": "LayoutView",
            "align_content": null,
            "align_items": null,
            "align_self": null,
            "border": null,
            "bottom": null,
            "display": null,
            "flex": null,
            "flex_flow": null,
            "grid_area": null,
            "grid_auto_columns": null,
            "grid_auto_flow": null,
            "grid_auto_rows": null,
            "grid_column": null,
            "grid_gap": null,
            "grid_row": null,
            "grid_template_areas": null,
            "grid_template_columns": null,
            "grid_template_rows": null,
            "height": null,
            "justify_content": null,
            "justify_items": null,
            "left": null,
            "margin": null,
            "max_height": null,
            "max_width": null,
            "min_height": null,
            "min_width": null,
            "object_fit": null,
            "object_position": null,
            "order": null,
            "overflow": null,
            "overflow_x": null,
            "overflow_y": null,
            "padding": null,
            "right": null,
            "top": null,
            "visibility": null,
            "width": null
          }
        },
        "710d8034731c41669392667525dc139d": {
          "model_module": "@jupyter-widgets/controls",
          "model_name": "DescriptionStyleModel",
          "model_module_version": "1.5.0",
          "state": {
            "_model_module": "@jupyter-widgets/controls",
            "_model_module_version": "1.5.0",
            "_model_name": "DescriptionStyleModel",
            "_view_count": null,
            "_view_module": "@jupyter-widgets/base",
            "_view_module_version": "1.2.0",
            "_view_name": "StyleView",
            "description_width": ""
          }
        },
        "c5c8c740a7924cdf9009a53455f9bf09": {
          "model_module": "@jupyter-widgets/base",
          "model_name": "LayoutModel",
          "model_module_version": "1.2.0",
          "state": {
            "_model_module": "@jupyter-widgets/base",
            "_model_module_version": "1.2.0",
            "_model_name": "LayoutModel",
            "_view_count": null,
            "_view_module": "@jupyter-widgets/base",
            "_view_module_version": "1.2.0",
            "_view_name": "LayoutView",
            "align_content": null,
            "align_items": null,
            "align_self": null,
            "border": null,
            "bottom": null,
            "display": null,
            "flex": null,
            "flex_flow": null,
            "grid_area": null,
            "grid_auto_columns": null,
            "grid_auto_flow": null,
            "grid_auto_rows": null,
            "grid_column": null,
            "grid_gap": null,
            "grid_row": null,
            "grid_template_areas": null,
            "grid_template_columns": null,
            "grid_template_rows": null,
            "height": null,
            "justify_content": null,
            "justify_items": null,
            "left": null,
            "margin": null,
            "max_height": null,
            "max_width": null,
            "min_height": null,
            "min_width": null,
            "object_fit": null,
            "object_position": null,
            "order": null,
            "overflow": null,
            "overflow_x": null,
            "overflow_y": null,
            "padding": null,
            "right": null,
            "top": null,
            "visibility": null,
            "width": null
          }
        },
        "341b01864aad41f8921f4a4eeb0fc23e": {
          "model_module": "@jupyter-widgets/controls",
          "model_name": "ProgressStyleModel",
          "model_module_version": "1.5.0",
          "state": {
            "_model_module": "@jupyter-widgets/controls",
            "_model_module_version": "1.5.0",
            "_model_name": "ProgressStyleModel",
            "_view_count": null,
            "_view_module": "@jupyter-widgets/base",
            "_view_module_version": "1.2.0",
            "_view_name": "StyleView",
            "bar_color": null,
            "description_width": ""
          }
        },
        "0037301dc492429d841a35a23c1aa51b": {
          "model_module": "@jupyter-widgets/base",
          "model_name": "LayoutModel",
          "model_module_version": "1.2.0",
          "state": {
            "_model_module": "@jupyter-widgets/base",
            "_model_module_version": "1.2.0",
            "_model_name": "LayoutModel",
            "_view_count": null,
            "_view_module": "@jupyter-widgets/base",
            "_view_module_version": "1.2.0",
            "_view_name": "LayoutView",
            "align_content": null,
            "align_items": null,
            "align_self": null,
            "border": null,
            "bottom": null,
            "display": null,
            "flex": null,
            "flex_flow": null,
            "grid_area": null,
            "grid_auto_columns": null,
            "grid_auto_flow": null,
            "grid_auto_rows": null,
            "grid_column": null,
            "grid_gap": null,
            "grid_row": null,
            "grid_template_areas": null,
            "grid_template_columns": null,
            "grid_template_rows": null,
            "height": null,
            "justify_content": null,
            "justify_items": null,
            "left": null,
            "margin": null,
            "max_height": null,
            "max_width": null,
            "min_height": null,
            "min_width": null,
            "object_fit": null,
            "object_position": null,
            "order": null,
            "overflow": null,
            "overflow_x": null,
            "overflow_y": null,
            "padding": null,
            "right": null,
            "top": null,
            "visibility": null,
            "width": null
          }
        },
        "cccc19581d71469bbdeaded23249b465": {
          "model_module": "@jupyter-widgets/controls",
          "model_name": "DescriptionStyleModel",
          "model_module_version": "1.5.0",
          "state": {
            "_model_module": "@jupyter-widgets/controls",
            "_model_module_version": "1.5.0",
            "_model_name": "DescriptionStyleModel",
            "_view_count": null,
            "_view_module": "@jupyter-widgets/base",
            "_view_module_version": "1.2.0",
            "_view_name": "StyleView",
            "description_width": ""
          }
        },
        "d8fd10820b6c47d5890edb15c0d69555": {
          "model_module": "@jupyter-widgets/controls",
          "model_name": "HBoxModel",
          "model_module_version": "1.5.0",
          "state": {
            "_dom_classes": [],
            "_model_module": "@jupyter-widgets/controls",
            "_model_module_version": "1.5.0",
            "_model_name": "HBoxModel",
            "_view_count": null,
            "_view_module": "@jupyter-widgets/controls",
            "_view_module_version": "1.5.0",
            "_view_name": "HBoxView",
            "box_style": "",
            "children": [
              "IPY_MODEL_c924c97ee0644eeaaebd36f3744e8154",
              "IPY_MODEL_78b1956bb17749fc8c9387ac1516a773",
              "IPY_MODEL_266aa82e00824884972cacdf7a653185"
            ],
            "layout": "IPY_MODEL_df8a6375ea644fd9bb70336aa0005267"
          }
        },
        "c924c97ee0644eeaaebd36f3744e8154": {
          "model_module": "@jupyter-widgets/controls",
          "model_name": "HTMLModel",
          "model_module_version": "1.5.0",
          "state": {
            "_dom_classes": [],
            "_model_module": "@jupyter-widgets/controls",
            "_model_module_version": "1.5.0",
            "_model_name": "HTMLModel",
            "_view_count": null,
            "_view_module": "@jupyter-widgets/controls",
            "_view_module_version": "1.5.0",
            "_view_name": "HTMLView",
            "description": "",
            "description_tooltip": null,
            "layout": "IPY_MODEL_37f8a9cf1953419a9477737da0e44f1c",
            "placeholder": "​",
            "style": "IPY_MODEL_eebd42b6d86641d08391b2e4df4f6664",
            "value": "Epoch 5 train: 100%"
          }
        },
        "78b1956bb17749fc8c9387ac1516a773": {
          "model_module": "@jupyter-widgets/controls",
          "model_name": "FloatProgressModel",
          "model_module_version": "1.5.0",
          "state": {
            "_dom_classes": [],
            "_model_module": "@jupyter-widgets/controls",
            "_model_module_version": "1.5.0",
            "_model_name": "FloatProgressModel",
            "_view_count": null,
            "_view_module": "@jupyter-widgets/controls",
            "_view_module_version": "1.5.0",
            "_view_name": "ProgressView",
            "bar_style": "success",
            "description": "",
            "description_tooltip": null,
            "layout": "IPY_MODEL_d178afc942094effa327c8335bf3763d",
            "max": 666,
            "min": 0,
            "orientation": "horizontal",
            "style": "IPY_MODEL_f4dd3b7b68c0480fabd32e605d7d1927",
            "value": 666
          }
        },
        "266aa82e00824884972cacdf7a653185": {
          "model_module": "@jupyter-widgets/controls",
          "model_name": "HTMLModel",
          "model_module_version": "1.5.0",
          "state": {
            "_dom_classes": [],
            "_model_module": "@jupyter-widgets/controls",
            "_model_module_version": "1.5.0",
            "_model_name": "HTMLModel",
            "_view_count": null,
            "_view_module": "@jupyter-widgets/controls",
            "_view_module_version": "1.5.0",
            "_view_name": "HTMLView",
            "description": "",
            "description_tooltip": null,
            "layout": "IPY_MODEL_c02a6da32ee741d08eb3127446244980",
            "placeholder": "​",
            "style": "IPY_MODEL_52c9fa10326e4723a9f8863f76272d91",
            "value": " 666/666 [00:58&lt;00:00, 12.25it/s]"
          }
        },
        "df8a6375ea644fd9bb70336aa0005267": {
          "model_module": "@jupyter-widgets/base",
          "model_name": "LayoutModel",
          "model_module_version": "1.2.0",
          "state": {
            "_model_module": "@jupyter-widgets/base",
            "_model_module_version": "1.2.0",
            "_model_name": "LayoutModel",
            "_view_count": null,
            "_view_module": "@jupyter-widgets/base",
            "_view_module_version": "1.2.0",
            "_view_name": "LayoutView",
            "align_content": null,
            "align_items": null,
            "align_self": null,
            "border": null,
            "bottom": null,
            "display": null,
            "flex": null,
            "flex_flow": null,
            "grid_area": null,
            "grid_auto_columns": null,
            "grid_auto_flow": null,
            "grid_auto_rows": null,
            "grid_column": null,
            "grid_gap": null,
            "grid_row": null,
            "grid_template_areas": null,
            "grid_template_columns": null,
            "grid_template_rows": null,
            "height": null,
            "justify_content": null,
            "justify_items": null,
            "left": null,
            "margin": null,
            "max_height": null,
            "max_width": null,
            "min_height": null,
            "min_width": null,
            "object_fit": null,
            "object_position": null,
            "order": null,
            "overflow": null,
            "overflow_x": null,
            "overflow_y": null,
            "padding": null,
            "right": null,
            "top": null,
            "visibility": null,
            "width": null
          }
        },
        "37f8a9cf1953419a9477737da0e44f1c": {
          "model_module": "@jupyter-widgets/base",
          "model_name": "LayoutModel",
          "model_module_version": "1.2.0",
          "state": {
            "_model_module": "@jupyter-widgets/base",
            "_model_module_version": "1.2.0",
            "_model_name": "LayoutModel",
            "_view_count": null,
            "_view_module": "@jupyter-widgets/base",
            "_view_module_version": "1.2.0",
            "_view_name": "LayoutView",
            "align_content": null,
            "align_items": null,
            "align_self": null,
            "border": null,
            "bottom": null,
            "display": null,
            "flex": null,
            "flex_flow": null,
            "grid_area": null,
            "grid_auto_columns": null,
            "grid_auto_flow": null,
            "grid_auto_rows": null,
            "grid_column": null,
            "grid_gap": null,
            "grid_row": null,
            "grid_template_areas": null,
            "grid_template_columns": null,
            "grid_template_rows": null,
            "height": null,
            "justify_content": null,
            "justify_items": null,
            "left": null,
            "margin": null,
            "max_height": null,
            "max_width": null,
            "min_height": null,
            "min_width": null,
            "object_fit": null,
            "object_position": null,
            "order": null,
            "overflow": null,
            "overflow_x": null,
            "overflow_y": null,
            "padding": null,
            "right": null,
            "top": null,
            "visibility": null,
            "width": null
          }
        },
        "eebd42b6d86641d08391b2e4df4f6664": {
          "model_module": "@jupyter-widgets/controls",
          "model_name": "DescriptionStyleModel",
          "model_module_version": "1.5.0",
          "state": {
            "_model_module": "@jupyter-widgets/controls",
            "_model_module_version": "1.5.0",
            "_model_name": "DescriptionStyleModel",
            "_view_count": null,
            "_view_module": "@jupyter-widgets/base",
            "_view_module_version": "1.2.0",
            "_view_name": "StyleView",
            "description_width": ""
          }
        },
        "d178afc942094effa327c8335bf3763d": {
          "model_module": "@jupyter-widgets/base",
          "model_name": "LayoutModel",
          "model_module_version": "1.2.0",
          "state": {
            "_model_module": "@jupyter-widgets/base",
            "_model_module_version": "1.2.0",
            "_model_name": "LayoutModel",
            "_view_count": null,
            "_view_module": "@jupyter-widgets/base",
            "_view_module_version": "1.2.0",
            "_view_name": "LayoutView",
            "align_content": null,
            "align_items": null,
            "align_self": null,
            "border": null,
            "bottom": null,
            "display": null,
            "flex": null,
            "flex_flow": null,
            "grid_area": null,
            "grid_auto_columns": null,
            "grid_auto_flow": null,
            "grid_auto_rows": null,
            "grid_column": null,
            "grid_gap": null,
            "grid_row": null,
            "grid_template_areas": null,
            "grid_template_columns": null,
            "grid_template_rows": null,
            "height": null,
            "justify_content": null,
            "justify_items": null,
            "left": null,
            "margin": null,
            "max_height": null,
            "max_width": null,
            "min_height": null,
            "min_width": null,
            "object_fit": null,
            "object_position": null,
            "order": null,
            "overflow": null,
            "overflow_x": null,
            "overflow_y": null,
            "padding": null,
            "right": null,
            "top": null,
            "visibility": null,
            "width": null
          }
        },
        "f4dd3b7b68c0480fabd32e605d7d1927": {
          "model_module": "@jupyter-widgets/controls",
          "model_name": "ProgressStyleModel",
          "model_module_version": "1.5.0",
          "state": {
            "_model_module": "@jupyter-widgets/controls",
            "_model_module_version": "1.5.0",
            "_model_name": "ProgressStyleModel",
            "_view_count": null,
            "_view_module": "@jupyter-widgets/base",
            "_view_module_version": "1.2.0",
            "_view_name": "StyleView",
            "bar_color": null,
            "description_width": ""
          }
        },
        "c02a6da32ee741d08eb3127446244980": {
          "model_module": "@jupyter-widgets/base",
          "model_name": "LayoutModel",
          "model_module_version": "1.2.0",
          "state": {
            "_model_module": "@jupyter-widgets/base",
            "_model_module_version": "1.2.0",
            "_model_name": "LayoutModel",
            "_view_count": null,
            "_view_module": "@jupyter-widgets/base",
            "_view_module_version": "1.2.0",
            "_view_name": "LayoutView",
            "align_content": null,
            "align_items": null,
            "align_self": null,
            "border": null,
            "bottom": null,
            "display": null,
            "flex": null,
            "flex_flow": null,
            "grid_area": null,
            "grid_auto_columns": null,
            "grid_auto_flow": null,
            "grid_auto_rows": null,
            "grid_column": null,
            "grid_gap": null,
            "grid_row": null,
            "grid_template_areas": null,
            "grid_template_columns": null,
            "grid_template_rows": null,
            "height": null,
            "justify_content": null,
            "justify_items": null,
            "left": null,
            "margin": null,
            "max_height": null,
            "max_width": null,
            "min_height": null,
            "min_width": null,
            "object_fit": null,
            "object_position": null,
            "order": null,
            "overflow": null,
            "overflow_x": null,
            "overflow_y": null,
            "padding": null,
            "right": null,
            "top": null,
            "visibility": null,
            "width": null
          }
        },
        "52c9fa10326e4723a9f8863f76272d91": {
          "model_module": "@jupyter-widgets/controls",
          "model_name": "DescriptionStyleModel",
          "model_module_version": "1.5.0",
          "state": {
            "_model_module": "@jupyter-widgets/controls",
            "_model_module_version": "1.5.0",
            "_model_name": "DescriptionStyleModel",
            "_view_count": null,
            "_view_module": "@jupyter-widgets/base",
            "_view_module_version": "1.2.0",
            "_view_name": "StyleView",
            "description_width": ""
          }
        },
        "b7a61a14010d496fb100a7aa32b0a511": {
          "model_module": "@jupyter-widgets/controls",
          "model_name": "HBoxModel",
          "model_module_version": "1.5.0",
          "state": {
            "_dom_classes": [],
            "_model_module": "@jupyter-widgets/controls",
            "_model_module_version": "1.5.0",
            "_model_name": "HBoxModel",
            "_view_count": null,
            "_view_module": "@jupyter-widgets/controls",
            "_view_module_version": "1.5.0",
            "_view_name": "HBoxView",
            "box_style": "",
            "children": [
              "IPY_MODEL_d444dcea10f148fcb3505baa9836b272",
              "IPY_MODEL_e2529220e4e14720a56a28a56d97cf49",
              "IPY_MODEL_39e8ea14b83145b4bf6fc996648deccb"
            ],
            "layout": "IPY_MODEL_87bafd2138ac4266995369971426aed0"
          }
        },
        "d444dcea10f148fcb3505baa9836b272": {
          "model_module": "@jupyter-widgets/controls",
          "model_name": "HTMLModel",
          "model_module_version": "1.5.0",
          "state": {
            "_dom_classes": [],
            "_model_module": "@jupyter-widgets/controls",
            "_model_module_version": "1.5.0",
            "_model_name": "HTMLModel",
            "_view_count": null,
            "_view_module": "@jupyter-widgets/controls",
            "_view_module_version": "1.5.0",
            "_view_name": "HTMLView",
            "description": "",
            "description_tooltip": null,
            "layout": "IPY_MODEL_996b27e96050454db813d5c73c2ca2c0",
            "placeholder": "​",
            "style": "IPY_MODEL_771ed78dbb6f450baa1c2a3136cfc5d3",
            "value": "100%"
          }
        },
        "e2529220e4e14720a56a28a56d97cf49": {
          "model_module": "@jupyter-widgets/controls",
          "model_name": "FloatProgressModel",
          "model_module_version": "1.5.0",
          "state": {
            "_dom_classes": [],
            "_model_module": "@jupyter-widgets/controls",
            "_model_module_version": "1.5.0",
            "_model_name": "FloatProgressModel",
            "_view_count": null,
            "_view_module": "@jupyter-widgets/controls",
            "_view_module_version": "1.5.0",
            "_view_name": "ProgressView",
            "bar_style": "success",
            "description": "",
            "description_tooltip": null,
            "layout": "IPY_MODEL_f8b14c297a1948b2809979af6d51eb7c",
            "max": 1000,
            "min": 0,
            "orientation": "horizontal",
            "style": "IPY_MODEL_2361cb7454ef425fb47e96277658cfb7",
            "value": 1000
          }
        },
        "39e8ea14b83145b4bf6fc996648deccb": {
          "model_module": "@jupyter-widgets/controls",
          "model_name": "HTMLModel",
          "model_module_version": "1.5.0",
          "state": {
            "_dom_classes": [],
            "_model_module": "@jupyter-widgets/controls",
            "_model_module_version": "1.5.0",
            "_model_name": "HTMLModel",
            "_view_count": null,
            "_view_module": "@jupyter-widgets/controls",
            "_view_module_version": "1.5.0",
            "_view_name": "HTMLView",
            "description": "",
            "description_tooltip": null,
            "layout": "IPY_MODEL_9eba7d6fb0f64475a02d9b09fc7e9bb1",
            "placeholder": "​",
            "style": "IPY_MODEL_35192b8d593447288e39bb4d2237d815",
            "value": " 1000/1000 [00:11&lt;00:00, 94.33it/s]"
          }
        },
        "87bafd2138ac4266995369971426aed0": {
          "model_module": "@jupyter-widgets/base",
          "model_name": "LayoutModel",
          "model_module_version": "1.2.0",
          "state": {
            "_model_module": "@jupyter-widgets/base",
            "_model_module_version": "1.2.0",
            "_model_name": "LayoutModel",
            "_view_count": null,
            "_view_module": "@jupyter-widgets/base",
            "_view_module_version": "1.2.0",
            "_view_name": "LayoutView",
            "align_content": null,
            "align_items": null,
            "align_self": null,
            "border": null,
            "bottom": null,
            "display": null,
            "flex": null,
            "flex_flow": null,
            "grid_area": null,
            "grid_auto_columns": null,
            "grid_auto_flow": null,
            "grid_auto_rows": null,
            "grid_column": null,
            "grid_gap": null,
            "grid_row": null,
            "grid_template_areas": null,
            "grid_template_columns": null,
            "grid_template_rows": null,
            "height": null,
            "justify_content": null,
            "justify_items": null,
            "left": null,
            "margin": null,
            "max_height": null,
            "max_width": null,
            "min_height": null,
            "min_width": null,
            "object_fit": null,
            "object_position": null,
            "order": null,
            "overflow": null,
            "overflow_x": null,
            "overflow_y": null,
            "padding": null,
            "right": null,
            "top": null,
            "visibility": null,
            "width": null
          }
        },
        "996b27e96050454db813d5c73c2ca2c0": {
          "model_module": "@jupyter-widgets/base",
          "model_name": "LayoutModel",
          "model_module_version": "1.2.0",
          "state": {
            "_model_module": "@jupyter-widgets/base",
            "_model_module_version": "1.2.0",
            "_model_name": "LayoutModel",
            "_view_count": null,
            "_view_module": "@jupyter-widgets/base",
            "_view_module_version": "1.2.0",
            "_view_name": "LayoutView",
            "align_content": null,
            "align_items": null,
            "align_self": null,
            "border": null,
            "bottom": null,
            "display": null,
            "flex": null,
            "flex_flow": null,
            "grid_area": null,
            "grid_auto_columns": null,
            "grid_auto_flow": null,
            "grid_auto_rows": null,
            "grid_column": null,
            "grid_gap": null,
            "grid_row": null,
            "grid_template_areas": null,
            "grid_template_columns": null,
            "grid_template_rows": null,
            "height": null,
            "justify_content": null,
            "justify_items": null,
            "left": null,
            "margin": null,
            "max_height": null,
            "max_width": null,
            "min_height": null,
            "min_width": null,
            "object_fit": null,
            "object_position": null,
            "order": null,
            "overflow": null,
            "overflow_x": null,
            "overflow_y": null,
            "padding": null,
            "right": null,
            "top": null,
            "visibility": null,
            "width": null
          }
        },
        "771ed78dbb6f450baa1c2a3136cfc5d3": {
          "model_module": "@jupyter-widgets/controls",
          "model_name": "DescriptionStyleModel",
          "model_module_version": "1.5.0",
          "state": {
            "_model_module": "@jupyter-widgets/controls",
            "_model_module_version": "1.5.0",
            "_model_name": "DescriptionStyleModel",
            "_view_count": null,
            "_view_module": "@jupyter-widgets/base",
            "_view_module_version": "1.2.0",
            "_view_name": "StyleView",
            "description_width": ""
          }
        },
        "f8b14c297a1948b2809979af6d51eb7c": {
          "model_module": "@jupyter-widgets/base",
          "model_name": "LayoutModel",
          "model_module_version": "1.2.0",
          "state": {
            "_model_module": "@jupyter-widgets/base",
            "_model_module_version": "1.2.0",
            "_model_name": "LayoutModel",
            "_view_count": null,
            "_view_module": "@jupyter-widgets/base",
            "_view_module_version": "1.2.0",
            "_view_name": "LayoutView",
            "align_content": null,
            "align_items": null,
            "align_self": null,
            "border": null,
            "bottom": null,
            "display": null,
            "flex": null,
            "flex_flow": null,
            "grid_area": null,
            "grid_auto_columns": null,
            "grid_auto_flow": null,
            "grid_auto_rows": null,
            "grid_column": null,
            "grid_gap": null,
            "grid_row": null,
            "grid_template_areas": null,
            "grid_template_columns": null,
            "grid_template_rows": null,
            "height": null,
            "justify_content": null,
            "justify_items": null,
            "left": null,
            "margin": null,
            "max_height": null,
            "max_width": null,
            "min_height": null,
            "min_width": null,
            "object_fit": null,
            "object_position": null,
            "order": null,
            "overflow": null,
            "overflow_x": null,
            "overflow_y": null,
            "padding": null,
            "right": null,
            "top": null,
            "visibility": null,
            "width": null
          }
        },
        "2361cb7454ef425fb47e96277658cfb7": {
          "model_module": "@jupyter-widgets/controls",
          "model_name": "ProgressStyleModel",
          "model_module_version": "1.5.0",
          "state": {
            "_model_module": "@jupyter-widgets/controls",
            "_model_module_version": "1.5.0",
            "_model_name": "ProgressStyleModel",
            "_view_count": null,
            "_view_module": "@jupyter-widgets/base",
            "_view_module_version": "1.2.0",
            "_view_name": "StyleView",
            "bar_color": null,
            "description_width": ""
          }
        },
        "9eba7d6fb0f64475a02d9b09fc7e9bb1": {
          "model_module": "@jupyter-widgets/base",
          "model_name": "LayoutModel",
          "model_module_version": "1.2.0",
          "state": {
            "_model_module": "@jupyter-widgets/base",
            "_model_module_version": "1.2.0",
            "_model_name": "LayoutModel",
            "_view_count": null,
            "_view_module": "@jupyter-widgets/base",
            "_view_module_version": "1.2.0",
            "_view_name": "LayoutView",
            "align_content": null,
            "align_items": null,
            "align_self": null,
            "border": null,
            "bottom": null,
            "display": null,
            "flex": null,
            "flex_flow": null,
            "grid_area": null,
            "grid_auto_columns": null,
            "grid_auto_flow": null,
            "grid_auto_rows": null,
            "grid_column": null,
            "grid_gap": null,
            "grid_row": null,
            "grid_template_areas": null,
            "grid_template_columns": null,
            "grid_template_rows": null,
            "height": null,
            "justify_content": null,
            "justify_items": null,
            "left": null,
            "margin": null,
            "max_height": null,
            "max_width": null,
            "min_height": null,
            "min_width": null,
            "object_fit": null,
            "object_position": null,
            "order": null,
            "overflow": null,
            "overflow_x": null,
            "overflow_y": null,
            "padding": null,
            "right": null,
            "top": null,
            "visibility": null,
            "width": null
          }
        },
        "35192b8d593447288e39bb4d2237d815": {
          "model_module": "@jupyter-widgets/controls",
          "model_name": "DescriptionStyleModel",
          "model_module_version": "1.5.0",
          "state": {
            "_model_module": "@jupyter-widgets/controls",
            "_model_module_version": "1.5.0",
            "_model_name": "DescriptionStyleModel",
            "_view_count": null,
            "_view_module": "@jupyter-widgets/base",
            "_view_module_version": "1.2.0",
            "_view_name": "StyleView",
            "description_width": ""
          }
        }
      }
    }
  },
  "nbformat": 4,
  "nbformat_minor": 0
}